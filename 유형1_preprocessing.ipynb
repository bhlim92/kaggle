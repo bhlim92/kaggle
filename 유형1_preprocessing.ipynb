{
 "cells": [
  {
   "cell_type": "code",
   "execution_count": 4,
   "id": "d570fb7f",
   "metadata": {},
   "outputs": [],
   "source": [
    "import pandas as pd\n",
    "\n",
    "\n",
    "df = pd.read_csv(\"youtube.csv\",index_col=0)\n",
    "\n",
    "# df.head()"
   ]
  },
  {
   "cell_type": "markdown",
   "id": "97cc3488",
   "metadata": {},
   "source": [
    "인기동영상 제작횟수가 많은 채널 상위 10개명을 출력하라 (날짜기준, 중복포함)"
   ]
  },
  {
   "cell_type": "markdown",
   "id": "c373b10e",
   "metadata": {},
   "source": [
    "논란으로 인기동영상이 된 케이스를 확인하고 싶다. dislikes수가 like 수보다 높은 동영상을 제작한 채널을 모두 출력하라"
   ]
  },
  {
   "cell_type": "code",
   "execution_count": 5,
   "id": "4c4a5f29",
   "metadata": {},
   "outputs": [
    {
     "name": "stdout",
     "output_type": "stream",
     "text": [
      "0                          핫도그TV\n",
      "1                      ASMR 애정TV\n",
      "2                  하얀트리HayanTree\n",
      "3                    양팡 YangPang\n",
      "4                 철구형 (CHULTUBE)\n",
      "5                         왜냐맨하우스\n",
      "6                 (MUTUBE)와꾸대장봉준\n",
      "7                          오메킴TV\n",
      "8                            육지담\n",
      "9                  MapleStory_KR\n",
      "10    ROAD FIGHTING CHAMPIONSHIP\n",
      "11                       사나이 김기훈\n",
      "12                  나혼자산다 STUDIO\n",
      "13                 Gen.G esports\n",
      "dtype: object\n",
      "Wall time: 22 ms\n"
     ]
    }
   ],
   "source": [
    "%%time\n",
    "# df.info()\n",
    "sf = df[df[\"dislikes\"] > df[\"likes\"]]\n",
    "channel = sf.channelTitle.unique()\n",
    "channel = pd.Series(channel)\n",
    "print(channel)"
   ]
  },
  {
   "cell_type": "markdown",
   "id": "7b75e33f",
   "metadata": {},
   "source": [
    "채널명을 바꾼 케이스가 있는지 확인하고 싶다. channelId의 경우 고유값이므로 이를 통해 채널명을 한번이라도 바꾼 채널의 갯수를 구하여라"
   ]
  },
  {
   "cell_type": "code",
   "execution_count": 94,
   "id": "3c30f283",
   "metadata": {},
   "outputs": [
    {
     "name": "stdout",
     "output_type": "stream",
     "text": [
      "60399 1832\n"
     ]
    }
   ],
   "source": [
    "import time\n",
    "st = time.time()\n",
    "channels = df[\"channelId\"].unique()\n",
    "print(len(df), len(titles))\n",
    "changes = []\n",
    "## 아래와 같이 하면 너무 느림.. "
   ]
  },
  {
   "cell_type": "code",
   "execution_count": 97,
   "id": "b76caf43",
   "metadata": {},
   "outputs": [
    {
     "name": "stdout",
     "output_type": "stream",
     "text": [
      "213\n",
      "7.4057698249816895 초 지남\n",
      "Wall time: 7.41 s\n"
     ]
    }
   ],
   "source": [
    "%%time\n",
    "st = time.time()\n",
    "for id in channels:\n",
    "    sf = df[df[\"channelId\"] == id]\n",
    "    sf_unique = sf[\"channelTitle\"].unique()\n",
    "#     print(id, sf_unique)\n",
    "    if len(sf_unique) > 1:\n",
    "#         print(id,\"->\",sf_unique)\n",
    "        changes.append(id)\n",
    "    \n",
    "print(len(changes))\n",
    "ed = time.time()\n",
    "print(ed-st,\"초 지남\")"
   ]
  },
  {
   "cell_type": "code",
   "execution_count": 98,
   "id": "c21b47a4",
   "metadata": {},
   "outputs": [
    {
     "name": "stdout",
     "output_type": "stream",
     "text": [
      "2 79393.57095265388\n"
     ]
    }
   ],
   "source": [
    "dd = df[['channelTitle','channelId']].drop_duplicates()\n",
    "# print(dd.head())\n",
    "\n",
    "change = df[['channelTitle','channelId']].drop_duplicates().channelTitle.value_counts()\n",
    "# print(len(change),change)\n",
    "target = change[change>1]\n",
    "# print(target)\n",
    "print(len(target), time.time() - ed)\n",
    "# print(df[df[\"channelId\"] == \"UCtQYhzJWFai1y30UIA3uwYQ\" ][[\"channelTitle\",\"channelId\"]])\n"
   ]
  },
  {
   "cell_type": "code",
   "execution_count": 104,
   "id": "c21f75da",
   "metadata": {},
   "outputs": [
    {
     "name": "stdout",
     "output_type": "stream",
     "text": [
      "<class 'pandas.core.frame.DataFrame'>\n",
      "Index: 60399 entries, [신병] 물자창고 to ENHYPEN (엔하이픈) 'Tamed-Dashed' Official MV\n",
      "Data columns (total 8 columns):\n",
      " #   Column          Non-Null Count  Dtype         \n",
      "---  ------          --------------  -----         \n",
      " 0   channelTitle    60399 non-null  object        \n",
      " 1   categoryId      60399 non-null  int64         \n",
      " 2   view_count      60399 non-null  int64         \n",
      " 3   likes           60399 non-null  int64         \n",
      " 4   dislikes        60399 non-null  int64         \n",
      " 5   comment_count   60399 non-null  int64         \n",
      " 6   channelId       60399 non-null  object        \n",
      " 7   trending_date2  60399 non-null  datetime64[ns]\n",
      "dtypes: datetime64[ns](1), int64(5), object(2)\n",
      "memory usage: 4.1+ MB\n",
      "Wall time: 22.7 ms\n"
     ]
    }
   ],
   "source": [
    "%%time\n",
    "df.info()\n",
    "df[\"trending_date2\"] = pd.to_datetime(df[\"trending_date2\"])"
   ]
  },
  {
   "cell_type": "code",
   "execution_count": 347,
   "id": "871e1770",
   "metadata": {},
   "outputs": [
    {
     "name": "stdout",
     "output_type": "stream",
     "text": [
      "24    3096\n",
      "Name: categoryId, dtype: int64\n",
      "<built-in method weekday of datetime.datetime object at 0x000001AE2343F660> False\n"
     ]
    }
   ],
   "source": [
    "# 일요일에 인기 있었던 영상물 중 가장 있기 잇었던 categoryID 는 \n",
    "sf = df[df[\"trending_date2\"].dt.weekday == 6]\n",
    "\n",
    "s = sf[\"categoryId\"].value_counts()\n",
    "print(s.head(1))\n",
    "# df[\"month\"] = df[\"trending_date2\"].dt.month_name()\n",
    "# df[\"weekday\"] = df[\"trending_date2\"].dt.weekday\n",
    "# df[\"quarter\"] = df[\"trending_date2\"].dt.quarter\n",
    "# df[\"day\"] = df[\"trending_date2\"].dt.week\n",
    "\n",
    "# print(df.groupby(\"day\")[\"likes\"].sum())\n",
    "\n",
    "# like = sf.sort_values(\"likes\", ascending=False).head(1)\n",
    "# print(\"channelid ->\",like[\"categoryId\"],\"likes ->\",like[\"likes\"])\n",
    "# print(like)\n",
    "\n",
    "df[\"dow\"] = df[\"trending_date2\"].dt.day_name().str.lower().str[:3]\n",
    "\n",
    "import datetime\n",
    "\n",
    "_dt = datetime.datetime(2024,5,1, 0,0,0)\n",
    "print(_dt.weekday, _dt.weekday == 2)\n",
    "\n"
   ]
  },
  {
   "cell_type": "code",
   "execution_count": 360,
   "id": "fb76904a",
   "metadata": {},
   "outputs": [
    {
     "name": "stdout",
     "output_type": "stream",
     "text": [
      "(8600,)\n"
     ]
    }
   ],
   "source": [
    "df['trending_date2'] = pd.to_datetime(df['trending_date2'])\n",
    "answer =df.loc[df['trending_date2'].dt.day_name() =='Sunday'].categoryId\n",
    "print(answer.shape)"
   ]
  },
  {
   "cell_type": "code",
   "execution_count": 398,
   "id": "7b3e9e88",
   "metadata": {
    "scrolled": true
   },
   "outputs": [
    {
     "name": "stdout",
     "output_type": "stream",
     "text": [
      "    trending_date2  categoryId  size\n",
      "0           Friday           1   243\n",
      "1           Friday           2   120\n",
      "2           Friday          10   833\n",
      "3           Friday          15   187\n",
      "4           Friday          17   633\n",
      "5           Friday          19    90\n",
      "6           Friday          20   283\n",
      "7           Friday          22  1288\n",
      "8           Friday          23   568\n",
      "9           Friday          24  2976\n",
      "10          Friday          25   444\n",
      "11          Friday          26   369\n",
      "12          Friday          27   183\n",
      "13          Friday          28   171\n",
      "14          Friday          29    12\n",
      "15          Monday           1   263\n",
      "16          Monday           2   105\n",
      "17          Monday          10   837\n",
      "18          Monday          15   215\n",
      "19          Monday          17   668\n",
      "20          Monday          19    92\n",
      "21          Monday          20   298\n",
      "22          Monday          22  1373\n",
      "23          Monday          23   594\n",
      "24          Monday          24  3148\n",
      "25          Monday          25   453\n",
      "26          Monday          26   378\n",
      "27          Monday          27   205\n",
      "28          Monday          28   160\n",
      "29          Monday          29    10\n",
      "30        Saturday           1   255\n",
      "31        Saturday           2   119\n",
      "32        Saturday          10   776\n",
      "33        Saturday          15   198\n",
      "34        Saturday          17   592\n",
      "35        Saturday          19    87\n",
      "36        Saturday          20   296\n",
      "37        Saturday          22  1289\n",
      "38        Saturday          23   570\n",
      "39        Saturday          24  3066\n",
      "40        Saturday          25   422\n",
      "41        Saturday          26   364\n",
      "42        Saturday          27   183\n",
      "43        Saturday          28   173\n",
      "44        Saturday          29    10\n",
      "45          Sunday           1   274\n",
      "46          Sunday           2    99\n",
      "47          Sunday          10   830\n",
      "48          Sunday          15   217\n",
      "49          Sunday          17   636\n",
      "50          Sunday          19    91\n",
      "51          Sunday          20   289\n",
      "52          Sunday          22  1337\n",
      "53          Sunday          23   556\n",
      "54          Sunday          24  3096\n",
      "55          Sunday          25   437\n",
      "56          Sunday          26   363\n",
      "57          Sunday          27   199\n",
      "58          Sunday          28   167\n",
      "59          Sunday          29     9\n",
      "60        Thursday           1   246\n",
      "61        Thursday           2   128\n",
      "62        Thursday          10   890\n",
      "63        Thursday          15   207\n",
      "64        Thursday          17   682\n",
      "65        Thursday          19    92\n",
      "66        Thursday          20   282\n",
      "67        Thursday          22  1341\n",
      "68        Thursday          23   560\n",
      "69        Thursday          24  2954\n",
      "70        Thursday          25   470\n",
      "71        Thursday          26   375\n",
      "72        Thursday          27   194\n",
      "73        Thursday          28   166\n",
      "74        Thursday          29    13\n",
      "75         Tuesday           1   257\n",
      "76         Tuesday           2   119\n",
      "77         Tuesday          10   894\n",
      "78         Tuesday          15   208\n",
      "79         Tuesday          17   708\n",
      "80         Tuesday          19    89\n",
      "81         Tuesday          20   285\n",
      "82         Tuesday          22  1375\n",
      "83         Tuesday          23   569\n",
      "84         Tuesday          24  3084\n",
      "85         Tuesday          25   452\n",
      "86         Tuesday          26   394\n",
      "87         Tuesday          27   194\n",
      "88         Tuesday          28   161\n",
      "89         Tuesday          29    11\n",
      "90       Wednesday           1   234\n",
      "91       Wednesday           2   129\n",
      "92       Wednesday          10   917\n",
      "93       Wednesday          15   207\n",
      "94       Wednesday          17   706\n",
      "95       Wednesday          19    85\n",
      "96       Wednesday          20   291\n",
      "97       Wednesday          22  1333\n",
      "98       Wednesday          23   566\n",
      "99       Wednesday          24  3090\n",
      "100      Wednesday          25   468\n",
      "101      Wednesday          26   385\n",
      "102      Wednesday          27   212\n",
      "103      Wednesday          28   165\n",
      "104      Wednesday          29    12\n",
      "trending_date2  Friday  Monday  Saturday  Sunday  Thursday  Tuesday  Wednesday\n",
      "categoryId                                                                    \n",
      "1                  243     263       255     274       246      257        234\n",
      "2                  120     105       119      99       128      119        129\n",
      "10                 833     837       776     830       890      894        917\n",
      "15                 187     215       198     217       207      208        207\n",
      "17                 633     668       592     636       682      708        706\n",
      "19                  90      92        87      91        92       89         85\n",
      "20                 283     298       296     289       282      285        291\n",
      "22                1288    1373      1289    1337      1341     1375       1333\n",
      "23                 568     594       570     556       560      569        566\n",
      "24                2976    3148      3066    3096      2954     3084       3090\n",
      "25                 444     453       422     437       470      452        468\n",
      "26                 369     378       364     363       375      394        385\n",
      "27                 183     205       183     199       194      194        212\n",
      "28                 171     160       173     167       166      161        165\n",
      "29                  12      10        10       9        13       11         12\n"
     ]
    }
   ],
   "source": [
    "# ss = df.groupby([df['trending_date2'].dt.day_name(),'categoryId'],as_index=False)\n",
    "print(ss.size())\n",
    "group = df.groupby([df['trending_date2'].dt.day_name(),'categoryId'],as_index=False).size()\n",
    "# print(type(group), group.info())\n",
    "answer= group.pivot(index='categoryId',columns='trending_date2', values='size')\n",
    "print(answer)\n",
    "# display(answer)\n",
    "# df[\"trending_date2\"]"
   ]
  },
  {
   "cell_type": "code",
   "execution_count": 280,
   "id": "8feaf6c6",
   "metadata": {},
   "outputs": [
    {
     "data": {
      "text/html": [
       "<div>\n",
       "<style scoped>\n",
       "    .dataframe tbody tr th:only-of-type {\n",
       "        vertical-align: middle;\n",
       "    }\n",
       "\n",
       "    .dataframe tbody tr th {\n",
       "        vertical-align: top;\n",
       "    }\n",
       "\n",
       "    .dataframe thead th {\n",
       "        text-align: right;\n",
       "    }\n",
       "</style>\n",
       "<table border=\"1\" class=\"dataframe\">\n",
       "  <thead>\n",
       "    <tr style=\"text-align: right;\">\n",
       "      <th></th>\n",
       "      <th>0</th>\n",
       "      <th>test</th>\n",
       "    </tr>\n",
       "  </thead>\n",
       "  <tbody>\n",
       "    <tr>\n",
       "      <th>5</th>\n",
       "      <td>112</td>\n",
       "      <td>0</td>\n",
       "    </tr>\n",
       "    <tr>\n",
       "      <th>4</th>\n",
       "      <td>110</td>\n",
       "      <td>0</td>\n",
       "    </tr>\n",
       "    <tr>\n",
       "      <th>0</th>\n",
       "      <td>110</td>\n",
       "      <td>0</td>\n",
       "    </tr>\n",
       "    <tr>\n",
       "      <th>9</th>\n",
       "      <td>104</td>\n",
       "      <td>0</td>\n",
       "    </tr>\n",
       "    <tr>\n",
       "      <th>2</th>\n",
       "      <td>96</td>\n",
       "      <td>0</td>\n",
       "    </tr>\n",
       "    <tr>\n",
       "      <th>1</th>\n",
       "      <td>96</td>\n",
       "      <td>0</td>\n",
       "    </tr>\n",
       "    <tr>\n",
       "      <th>3</th>\n",
       "      <td>94</td>\n",
       "      <td>0</td>\n",
       "    </tr>\n",
       "    <tr>\n",
       "      <th>8</th>\n",
       "      <td>93</td>\n",
       "      <td>0</td>\n",
       "    </tr>\n",
       "    <tr>\n",
       "      <th>6</th>\n",
       "      <td>93</td>\n",
       "      <td>0</td>\n",
       "    </tr>\n",
       "    <tr>\n",
       "      <th>7</th>\n",
       "      <td>92</td>\n",
       "      <td>0</td>\n",
       "    </tr>\n",
       "  </tbody>\n",
       "</table>\n",
       "</div>"
      ],
      "text/plain": [
       "     0  test\n",
       "5  112     0\n",
       "4  110     0\n",
       "0  110     0\n",
       "9  104     0\n",
       "2   96     0\n",
       "1   96     0\n",
       "3   94     0\n",
       "8   93     0\n",
       "6   93     0\n",
       "7   92     0"
      ]
     },
     "execution_count": 280,
     "metadata": {},
     "output_type": "execute_result"
    }
   ],
   "source": [
    "sampls = np.random.randint(0,10,1000)\n",
    "\n",
    "s = pd.Series(sampls).value_counts()\n",
    "s_df = pd.DataFrame(s)\n",
    "s_df[\"test\"] = 0\n",
    "s_df.rename(columns = {0:\"num\"})\n",
    "s_df"
   ]
  },
  {
   "cell_type": "markdown",
   "id": "1bb3a668",
   "metadata": {},
   "source": [
    "\n",
    "### 5\n",
    "각 요일별 인기 영상들의 categoryId는 각각 몇개 씩인지 하나의 데이터 프레임으로 표현하라\n"
   ]
  },
  {
   "cell_type": "code",
   "execution_count": 384,
   "id": "92478d7c",
   "metadata": {},
   "outputs": [
    {
     "ename": "ValueError",
     "evalue": "Grouper for 'dow' not 1-dimensional",
     "output_type": "error",
     "traceback": [
      "\u001b[1;31m---------------------------------------------------------------------------\u001b[0m",
      "\u001b[1;31mValueError\u001b[0m                                Traceback (most recent call last)",
      "\u001b[1;32m~\\AppData\\Local\\Temp\\ipykernel_32336\\3455766736.py\u001b[0m in \u001b[0;36m<module>\u001b[1;34m\u001b[0m\n\u001b[0;32m      2\u001b[0m \u001b[1;31m# sss = df.groupby(\"weekday\").categoryId()\u001b[0m\u001b[1;33m\u001b[0m\u001b[1;33m\u001b[0m\u001b[1;33m\u001b[0m\u001b[0m\n\u001b[0;32m      3\u001b[0m \u001b[0msdf\u001b[0m \u001b[1;33m=\u001b[0m \u001b[0mpd\u001b[0m\u001b[1;33m.\u001b[0m\u001b[0mcrosstab\u001b[0m\u001b[1;33m(\u001b[0m\u001b[0mdf\u001b[0m\u001b[1;33m[\u001b[0m\u001b[1;34m\"categoryId\"\u001b[0m\u001b[1;33m]\u001b[0m\u001b[1;33m,\u001b[0m\u001b[0mdf\u001b[0m\u001b[1;33m[\u001b[0m\u001b[1;34m\"dow\"\u001b[0m\u001b[1;33m]\u001b[0m\u001b[1;33m)\u001b[0m\u001b[1;33m\u001b[0m\u001b[1;33m\u001b[0m\u001b[0m\n\u001b[1;32m----> 4\u001b[1;33m \u001b[0msss\u001b[0m \u001b[1;33m=\u001b[0m \u001b[0mpd\u001b[0m\u001b[1;33m.\u001b[0m\u001b[0mpivot_table\u001b[0m\u001b[1;33m(\u001b[0m\u001b[0mdf\u001b[0m\u001b[1;33m,\u001b[0m\u001b[0mindex\u001b[0m\u001b[1;33m=\u001b[0m\u001b[1;34m\"categoryId\"\u001b[0m\u001b[1;33m,\u001b[0m\u001b[0mcolumns\u001b[0m \u001b[1;33m=\u001b[0m \u001b[1;34m\"dow\"\u001b[0m\u001b[1;33m,\u001b[0m \u001b[0mvalues\u001b[0m\u001b[1;33m=\u001b[0m\u001b[1;34m\"dow\"\u001b[0m\u001b[1;33m)\u001b[0m\u001b[1;33m\u001b[0m\u001b[1;33m\u001b[0m\u001b[0m\n\u001b[0m",
      "\u001b[1;32mc:\\programming\\venv_307\\lib\\site-packages\\pandas\\core\\reshape\\pivot.py\u001b[0m in \u001b[0;36mpivot_table\u001b[1;34m(data, values, index, columns, aggfunc, fill_value, margins, dropna, margins_name, observed)\u001b[0m\n\u001b[0;32m    109\u001b[0m         \u001b[0mvalues\u001b[0m \u001b[1;33m=\u001b[0m \u001b[0mlist\u001b[0m\u001b[1;33m(\u001b[0m\u001b[0mvalues\u001b[0m\u001b[1;33m)\u001b[0m\u001b[1;33m\u001b[0m\u001b[1;33m\u001b[0m\u001b[0m\n\u001b[0;32m    110\u001b[0m \u001b[1;33m\u001b[0m\u001b[0m\n\u001b[1;32m--> 111\u001b[1;33m     \u001b[0mgrouped\u001b[0m \u001b[1;33m=\u001b[0m \u001b[0mdata\u001b[0m\u001b[1;33m.\u001b[0m\u001b[0mgroupby\u001b[0m\u001b[1;33m(\u001b[0m\u001b[0mkeys\u001b[0m\u001b[1;33m,\u001b[0m \u001b[0mobserved\u001b[0m\u001b[1;33m=\u001b[0m\u001b[0mobserved\u001b[0m\u001b[1;33m)\u001b[0m\u001b[1;33m\u001b[0m\u001b[1;33m\u001b[0m\u001b[0m\n\u001b[0m\u001b[0;32m    112\u001b[0m     \u001b[0magged\u001b[0m \u001b[1;33m=\u001b[0m \u001b[0mgrouped\u001b[0m\u001b[1;33m.\u001b[0m\u001b[0magg\u001b[0m\u001b[1;33m(\u001b[0m\u001b[0maggfunc\u001b[0m\u001b[1;33m)\u001b[0m\u001b[1;33m\u001b[0m\u001b[1;33m\u001b[0m\u001b[0m\n\u001b[0;32m    113\u001b[0m     \u001b[1;32mif\u001b[0m \u001b[0mdropna\u001b[0m \u001b[1;32mand\u001b[0m \u001b[0misinstance\u001b[0m\u001b[1;33m(\u001b[0m\u001b[0magged\u001b[0m\u001b[1;33m,\u001b[0m \u001b[0mABCDataFrame\u001b[0m\u001b[1;33m)\u001b[0m \u001b[1;32mand\u001b[0m \u001b[0mlen\u001b[0m\u001b[1;33m(\u001b[0m\u001b[0magged\u001b[0m\u001b[1;33m.\u001b[0m\u001b[0mcolumns\u001b[0m\u001b[1;33m)\u001b[0m\u001b[1;33m:\u001b[0m\u001b[1;33m\u001b[0m\u001b[1;33m\u001b[0m\u001b[0m\n",
      "\u001b[1;32mc:\\programming\\venv_307\\lib\\site-packages\\pandas\\core\\frame.py\u001b[0m in \u001b[0;36mgroupby\u001b[1;34m(self, by, axis, level, as_index, sort, group_keys, squeeze, observed, dropna)\u001b[0m\n\u001b[0;32m   6518\u001b[0m             \u001b[0msqueeze\u001b[0m\u001b[1;33m=\u001b[0m\u001b[0msqueeze\u001b[0m\u001b[1;33m,\u001b[0m\u001b[1;33m\u001b[0m\u001b[1;33m\u001b[0m\u001b[0m\n\u001b[0;32m   6519\u001b[0m             \u001b[0mobserved\u001b[0m\u001b[1;33m=\u001b[0m\u001b[0mobserved\u001b[0m\u001b[1;33m,\u001b[0m\u001b[1;33m\u001b[0m\u001b[1;33m\u001b[0m\u001b[0m\n\u001b[1;32m-> 6520\u001b[1;33m             \u001b[0mdropna\u001b[0m\u001b[1;33m=\u001b[0m\u001b[0mdropna\u001b[0m\u001b[1;33m,\u001b[0m\u001b[1;33m\u001b[0m\u001b[1;33m\u001b[0m\u001b[0m\n\u001b[0m\u001b[0;32m   6521\u001b[0m         )\n\u001b[0;32m   6522\u001b[0m \u001b[1;33m\u001b[0m\u001b[0m\n",
      "\u001b[1;32mc:\\programming\\venv_307\\lib\\site-packages\\pandas\\core\\groupby\\groupby.py\u001b[0m in \u001b[0;36m__init__\u001b[1;34m(self, obj, keys, axis, level, grouper, exclusions, selection, as_index, sort, group_keys, squeeze, observed, mutated, dropna)\u001b[0m\n\u001b[0;32m    531\u001b[0m                 \u001b[0mobserved\u001b[0m\u001b[1;33m=\u001b[0m\u001b[0mobserved\u001b[0m\u001b[1;33m,\u001b[0m\u001b[1;33m\u001b[0m\u001b[1;33m\u001b[0m\u001b[0m\n\u001b[0;32m    532\u001b[0m                 \u001b[0mmutated\u001b[0m\u001b[1;33m=\u001b[0m\u001b[0mself\u001b[0m\u001b[1;33m.\u001b[0m\u001b[0mmutated\u001b[0m\u001b[1;33m,\u001b[0m\u001b[1;33m\u001b[0m\u001b[1;33m\u001b[0m\u001b[0m\n\u001b[1;32m--> 533\u001b[1;33m                 \u001b[0mdropna\u001b[0m\u001b[1;33m=\u001b[0m\u001b[0mself\u001b[0m\u001b[1;33m.\u001b[0m\u001b[0mdropna\u001b[0m\u001b[1;33m,\u001b[0m\u001b[1;33m\u001b[0m\u001b[1;33m\u001b[0m\u001b[0m\n\u001b[0m\u001b[0;32m    534\u001b[0m             )\n\u001b[0;32m    535\u001b[0m \u001b[1;33m\u001b[0m\u001b[0m\n",
      "\u001b[1;32mc:\\programming\\venv_307\\lib\\site-packages\\pandas\\core\\groupby\\grouper.py\u001b[0m in \u001b[0;36mget_grouper\u001b[1;34m(obj, key, axis, level, sort, observed, mutated, validate, dropna)\u001b[0m\n\u001b[0;32m    807\u001b[0m                 \u001b[0mdropna\u001b[0m\u001b[1;33m=\u001b[0m\u001b[0mdropna\u001b[0m\u001b[1;33m,\u001b[0m\u001b[1;33m\u001b[0m\u001b[1;33m\u001b[0m\u001b[0m\n\u001b[0;32m    808\u001b[0m             )\n\u001b[1;32m--> 809\u001b[1;33m             \u001b[1;32mif\u001b[0m \u001b[1;32mnot\u001b[0m \u001b[0misinstance\u001b[0m\u001b[1;33m(\u001b[0m\u001b[0mgpr\u001b[0m\u001b[1;33m,\u001b[0m \u001b[0mGrouping\u001b[0m\u001b[1;33m)\u001b[0m\u001b[1;33m\u001b[0m\u001b[1;33m\u001b[0m\u001b[0m\n\u001b[0m\u001b[0;32m    810\u001b[0m             \u001b[1;32melse\u001b[0m \u001b[0mgpr\u001b[0m\u001b[1;33m\u001b[0m\u001b[1;33m\u001b[0m\u001b[0m\n\u001b[0;32m    811\u001b[0m         )\n",
      "\u001b[1;32mc:\\programming\\venv_307\\lib\\site-packages\\pandas\\core\\groupby\\grouper.py\u001b[0m in \u001b[0;36m__init__\u001b[1;34m(self, index, grouper, obj, name, level, sort, observed, in_axis, dropna)\u001b[0m\n\u001b[0;32m    515\u001b[0m                 \u001b[1;32mif\u001b[0m \u001b[0mgetattr\u001b[0m\u001b[1;33m(\u001b[0m\u001b[0mself\u001b[0m\u001b[1;33m.\u001b[0m\u001b[0mgrouper\u001b[0m\u001b[1;33m,\u001b[0m \u001b[1;34m\"ndim\"\u001b[0m\u001b[1;33m,\u001b[0m \u001b[1;36m1\u001b[0m\u001b[1;33m)\u001b[0m \u001b[1;33m!=\u001b[0m \u001b[1;36m1\u001b[0m\u001b[1;33m:\u001b[0m\u001b[1;33m\u001b[0m\u001b[1;33m\u001b[0m\u001b[0m\n\u001b[0;32m    516\u001b[0m                     \u001b[0mt\u001b[0m \u001b[1;33m=\u001b[0m \u001b[0mself\u001b[0m\u001b[1;33m.\u001b[0m\u001b[0mname\u001b[0m \u001b[1;32mor\u001b[0m \u001b[0mstr\u001b[0m\u001b[1;33m(\u001b[0m\u001b[0mtype\u001b[0m\u001b[1;33m(\u001b[0m\u001b[0mself\u001b[0m\u001b[1;33m.\u001b[0m\u001b[0mgrouper\u001b[0m\u001b[1;33m)\u001b[0m\u001b[1;33m)\u001b[0m\u001b[1;33m\u001b[0m\u001b[1;33m\u001b[0m\u001b[0m\n\u001b[1;32m--> 517\u001b[1;33m                     \u001b[1;32mraise\u001b[0m \u001b[0mValueError\u001b[0m\u001b[1;33m(\u001b[0m\u001b[1;34mf\"Grouper for '{t}' not 1-dimensional\"\u001b[0m\u001b[1;33m)\u001b[0m\u001b[1;33m\u001b[0m\u001b[1;33m\u001b[0m\u001b[0m\n\u001b[0m\u001b[0;32m    518\u001b[0m                 \u001b[0mself\u001b[0m\u001b[1;33m.\u001b[0m\u001b[0mgrouper\u001b[0m \u001b[1;33m=\u001b[0m \u001b[0mself\u001b[0m\u001b[1;33m.\u001b[0m\u001b[0mindex\u001b[0m\u001b[1;33m.\u001b[0m\u001b[0mmap\u001b[0m\u001b[1;33m(\u001b[0m\u001b[0mself\u001b[0m\u001b[1;33m.\u001b[0m\u001b[0mgrouper\u001b[0m\u001b[1;33m)\u001b[0m\u001b[1;33m\u001b[0m\u001b[1;33m\u001b[0m\u001b[0m\n\u001b[0;32m    519\u001b[0m                 if not (\n",
      "\u001b[1;31mValueError\u001b[0m: Grouper for 'dow' not 1-dimensional"
     ]
    }
   ],
   "source": [
    "pd.options.display.max_rows = None\n",
    "# sss = df.groupby(\"weekday\").categoryId()\n",
    "sdf = pd.crosstab(df[\"categoryId\"],df[\"dow\"])\n",
    "sss = pd.pivot_table(df,index=\"categoryId\",columns = \"dow\")"
   ]
  },
  {
   "cell_type": "code",
   "execution_count": 382,
   "id": "32915fd0",
   "metadata": {},
   "outputs": [
    {
     "data": {
      "text/plain": [
       "(Int64Index([1, 2, 10, 15, 17, 19, 20, 22, 23, 24, 25, 26, 27, 28, 29], dtype='int64', name='categoryId'),\n",
       " Int64Index([1, 2, 10, 15, 17, 19, 20, 22, 23, 24, 25, 26, 27, 28, 29], dtype='int64', name='categoryId'))"
      ]
     },
     "execution_count": 382,
     "metadata": {},
     "output_type": "execute_result"
    }
   ],
   "source": [
    "type(sdf), type(sss)\n",
    "sdf.index, sss.index\n",
    "# print(sss)\n"
   ]
  },
  {
   "cell_type": "code",
   "execution_count": 378,
   "id": "1687b804",
   "metadata": {},
   "outputs": [
    {
     "name": "stdout",
     "output_type": "stream",
     "text": [
      "<class 'pandas.core.frame.DataFrame'>\n",
      "Index: 60399 entries, [신병] 물자창고 to ENHYPEN (엔하이픈) 'Tamed-Dashed' Official MV\n",
      "Data columns (total 13 columns):\n",
      " #   Column          Non-Null Count  Dtype         \n",
      "---  ------          --------------  -----         \n",
      " 0   channelTitle    60399 non-null  object        \n",
      " 1   categoryId      60399 non-null  int64         \n",
      " 2   view_count      60399 non-null  int64         \n",
      " 3   likes           60399 non-null  int64         \n",
      " 4   dislikes        60399 non-null  int64         \n",
      " 5   comment_count   60399 non-null  int64         \n",
      " 6   channelId       60399 non-null  object        \n",
      " 7   trending_date2  60399 non-null  datetime64[ns]\n",
      " 8   month           60399 non-null  object        \n",
      " 9   weekday         60399 non-null  int64         \n",
      " 10  quarter         60399 non-null  int64         \n",
      " 11  day             60399 non-null  int64         \n",
      " 12  dow             60399 non-null  object        \n",
      "dtypes: datetime64[ns](1), int64(8), object(4)\n",
      "memory usage: 7.7+ MB\n"
     ]
    }
   ],
   "source": [
    "df[\"dow\"] = df[\"trending_date2\"].dt.day_name().str.lower().str[:3]\n",
    "# df[\"dow\"] = df[\"dow\"].str[:3]\n",
    "df.info()\n",
    "# df.head()"
   ]
  },
  {
   "cell_type": "markdown",
   "id": "a7ee4dd9",
   "metadata": {},
   "source": [
    "댓글의 수로 (comment_count) 영상 반응에 대한 판단을 할 수 있다. viewcount대비 댓글수가 가장 높은 영상을 확인하라 (view_count값이 0인 경우는 제외한다)"
   ]
  },
  {
   "cell_type": "code",
   "execution_count": 443,
   "id": "07c97384",
   "metadata": {},
   "outputs": [
    {
     "name": "stdout",
     "output_type": "stream",
     "text": [
      "Wall time: 25.9 ms\n"
     ]
    },
    {
     "name": "stderr",
     "output_type": "stream",
     "text": [
      "c:\\programming\\venv_307\\lib\\site-packages\\ipykernel_launcher.py:6: SettingWithCopyWarning: \n",
      "A value is trying to be set on a copy of a slice from a DataFrame.\n",
      "Try using .loc[row_indexer,col_indexer] = value instead\n",
      "\n",
      "See the caveats in the documentation: https://pandas.pydata.org/pandas-docs/stable/user_guide/indexing.html#returning-a-view-versus-a-copy\n",
      "  \n"
     ]
    },
    {
     "data": {
      "text/html": [
       "<div>\n",
       "<style scoped>\n",
       "    .dataframe tbody tr th:only-of-type {\n",
       "        vertical-align: middle;\n",
       "    }\n",
       "\n",
       "    .dataframe tbody tr th {\n",
       "        vertical-align: top;\n",
       "    }\n",
       "\n",
       "    .dataframe thead th {\n",
       "        text-align: right;\n",
       "    }\n",
       "</style>\n",
       "<table border=\"1\" class=\"dataframe\">\n",
       "  <thead>\n",
       "    <tr style=\"text-align: right;\">\n",
       "      <th></th>\n",
       "      <th>view_count</th>\n",
       "      <th>comment_count</th>\n",
       "      <th>ratio</th>\n",
       "    </tr>\n",
       "    <tr>\n",
       "      <th>title</th>\n",
       "      <th></th>\n",
       "      <th></th>\n",
       "      <th></th>\n",
       "    </tr>\n",
       "  </thead>\n",
       "  <tbody>\n",
       "    <tr>\n",
       "      <th>60분 동안 댓글이 달리지 않으면, 영상이 삭제됩니다. (챌린지)</th>\n",
       "      <td>1214527</td>\n",
       "      <td>196166</td>\n",
       "      <td>0.161516</td>\n",
       "    </tr>\n",
       "  </tbody>\n",
       "</table>\n",
       "</div>"
      ],
      "text/plain": [
       "                                      view_count  comment_count     ratio\n",
       "title                                                                    \n",
       "60분 동안 댓글이 달리지 않으면, 영상이 삭제됩니다. (챌린지)     1214527         196166  0.161516"
      ]
     },
     "execution_count": 443,
     "metadata": {},
     "output_type": "execute_result"
    }
   ],
   "source": [
    "%%time\n",
    "# df.info()\n",
    "dels = df[df[\"view_count\"] == 0]\n",
    "# print(dels[\"view_count\"])\n",
    "sf = df.drop(index=dels.index , axis = 0)\n",
    "# print(len(sf))\n",
    "sf[\"ratio\"] =  sf[\"comment_count\"] / sf[\"view_count\"]\n",
    "cvf = sf[sf[\"ratio\"] == sf[\"ratio\"].max()]\n",
    "cvf[[\"view_count\",\"comment_count\",\"ratio\"]].head()"
   ]
  },
  {
   "cell_type": "code",
   "execution_count": 444,
   "id": "bb35aa7e",
   "metadata": {},
   "outputs": [
    {
     "name": "stdout",
     "output_type": "stream",
     "text": [
      "Wall time: 26.3 ms\n"
     ]
    },
    {
     "name": "stderr",
     "output_type": "stream",
     "text": [
      "c:\\programming\\venv_307\\lib\\site-packages\\ipykernel_launcher.py:6: SettingWithCopyWarning: \n",
      "A value is trying to be set on a copy of a slice from a DataFrame.\n",
      "Try using .loc[row_indexer,col_indexer] = value instead\n",
      "\n",
      "See the caveats in the documentation: https://pandas.pydata.org/pandas-docs/stable/user_guide/indexing.html#returning-a-view-versus-a-copy\n",
      "  \n"
     ]
    },
    {
     "data": {
      "text/html": [
       "<div>\n",
       "<style scoped>\n",
       "    .dataframe tbody tr th:only-of-type {\n",
       "        vertical-align: middle;\n",
       "    }\n",
       "\n",
       "    .dataframe tbody tr th {\n",
       "        vertical-align: top;\n",
       "    }\n",
       "\n",
       "    .dataframe thead th {\n",
       "        text-align: right;\n",
       "    }\n",
       "</style>\n",
       "<table border=\"1\" class=\"dataframe\">\n",
       "  <thead>\n",
       "    <tr style=\"text-align: right;\">\n",
       "      <th></th>\n",
       "      <th>view_count</th>\n",
       "      <th>comment_count</th>\n",
       "      <th>ratio</th>\n",
       "    </tr>\n",
       "    <tr>\n",
       "      <th>title</th>\n",
       "      <th></th>\n",
       "      <th></th>\n",
       "      <th></th>\n",
       "    </tr>\n",
       "  </thead>\n",
       "  <tbody>\n",
       "    <tr>\n",
       "      <th>60분 동안 댓글이 달리지 않으면, 영상이 삭제됩니다. (챌린지)</th>\n",
       "      <td>1214527</td>\n",
       "      <td>196166</td>\n",
       "      <td>0.161516</td>\n",
       "    </tr>\n",
       "  </tbody>\n",
       "</table>\n",
       "</div>"
      ],
      "text/plain": [
       "                                      view_count  comment_count     ratio\n",
       "title                                                                    \n",
       "60분 동안 댓글이 달리지 않으면, 영상이 삭제됩니다. (챌린지)     1214527         196166  0.161516"
      ]
     },
     "execution_count": 444,
     "metadata": {},
     "output_type": "execute_result"
    }
   ],
   "source": [
    "%%time\n",
    "# df.info()\n",
    "sf = df[df[\"view_count\"] != 0]\n",
    "# print(dels[\"view_count\"])\n",
    "# sf = df.drop(index=dels.index , axis = 0)\n",
    "# print(len(sf))\n",
    "sf[\"ratio\"] =  sf[\"comment_count\"] / sf[\"view_count\"]\n",
    "cvf = sf[sf[\"ratio\"] == sf[\"ratio\"].max()]\n",
    "cvf[[\"view_count\",\"comment_count\",\"ratio\"]].head()"
   ]
  },
  {
   "cell_type": "markdown",
   "id": "87a7233c",
   "metadata": {},
   "source": [
    "like 대비 dislike의 수가 가장 적은 영상은 무엇인가? (like, dislike 값이 0인경우는 제외한다)"
   ]
  },
  {
   "cell_type": "code",
   "execution_count": 479,
   "id": "067be585",
   "metadata": {},
   "outputs": [
    {
     "name": "stdout",
     "output_type": "stream",
     "text": [
      "<class 'pandas.core.frame.DataFrame'>\n",
      "Index: 60399 entries, [신병] 물자창고 to ENHYPEN (엔하이픈) 'Tamed-Dashed' Official MV\n",
      "Data columns (total 15 columns):\n",
      " #   Column          Non-Null Count  Dtype         \n",
      "---  ------          --------------  -----         \n",
      " 0   channelTitle    60399 non-null  object        \n",
      " 1   categoryId      60399 non-null  int64         \n",
      " 2   view_count      60399 non-null  int64         \n",
      " 3   likes           60399 non-null  int64         \n",
      " 4   dislikes        60399 non-null  int64         \n",
      " 5   comment_count   60399 non-null  int64         \n",
      " 6   channelId       60399 non-null  object        \n",
      " 7   trending_date2  60399 non-null  datetime64[ns]\n",
      " 8   month           60399 non-null  object        \n",
      " 9   weekday         60399 non-null  int64         \n",
      " 10  quarter         60399 non-null  int64         \n",
      " 11  day             60399 non-null  int64         \n",
      " 12  dow             60399 non-null  object        \n",
      " 13  cvf             60392 non-null  float64       \n",
      " 14  ratio           60392 non-null  float64       \n",
      "dtypes: datetime64[ns](1), float64(2), int64(8), object(4)\n",
      "memory usage: 8.6+ MB\n",
      "Index(['[줌터뷰] *최초공개* 사부작즈🐰🐶의 비공식 이름은 아이라인즈? 꿀조합 티키타카 가득한 NCT 127 도영&정우의 줌터뷰'], dtype='object', name='title')\n"
     ]
    },
    {
     "name": "stderr",
     "output_type": "stream",
     "text": [
      "c:\\programming\\venv_307\\lib\\site-packages\\ipykernel_launcher.py:3: SettingWithCopyWarning: \n",
      "A value is trying to be set on a copy of a slice from a DataFrame\n",
      "\n",
      "See the caveats in the documentation: https://pandas.pydata.org/pandas-docs/stable/user_guide/indexing.html#returning-a-view-versus-a-copy\n",
      "  This is separate from the ipykernel package so we can avoid doing imports until\n",
      "c:\\programming\\venv_307\\lib\\site-packages\\ipykernel_launcher.py:4: SettingWithCopyWarning: \n",
      "A value is trying to be set on a copy of a slice from a DataFrame.\n",
      "Try using .loc[row_indexer,col_indexer] = value instead\n",
      "\n",
      "See the caveats in the documentation: https://pandas.pydata.org/pandas-docs/stable/user_guide/indexing.html#returning-a-view-versus-a-copy\n",
      "  after removing the cwd from sys.path.\n"
     ]
    }
   ],
   "source": [
    "df.info()\n",
    "df_ld = df[ (df[\"likes\"] != 0) & (df[\"dislikes\"] != 0)]\n",
    "df_ld.dropna(inplace=True)\n",
    "df_ld[\"ratio_ld\"] = df_ld[\"dislikes\"] / df_ld[\"likes\"]\n",
    "_min = df_ld[\"ratio_ld\"].min()\n",
    "s = df_ld[df_ld[\"ratio_ld\"] == _min]\n",
    "print(s.index)\n"
   ]
  },
  {
   "cell_type": "markdown",
   "id": "2d08a04e",
   "metadata": {},
   "source": [
    "### 문제 9\n",
    "가장많은 트렌드 영상을 제작한 채널의 이름은 무엇인가? (날짜기준, 중복포함)"
   ]
  },
  {
   "cell_type": "code",
   "execution_count": 511,
   "id": "29561da5",
   "metadata": {},
   "outputs": [
    {
     "ename": "KeyError",
     "evalue": "'./channelTitle'",
     "output_type": "error",
     "traceback": [
      "\u001b[1;31m---------------------------------------------------------------------------\u001b[0m",
      "\u001b[1;31mKeyError\u001b[0m                                  Traceback (most recent call last)",
      "\u001b[1;32mc:\\programming\\venv_307\\lib\\site-packages\\pandas\\core\\indexes\\base.py\u001b[0m in \u001b[0;36mget_loc\u001b[1;34m(self, key, method, tolerance)\u001b[0m\n\u001b[0;32m   2890\u001b[0m             \u001b[1;32mtry\u001b[0m\u001b[1;33m:\u001b[0m\u001b[1;33m\u001b[0m\u001b[1;33m\u001b[0m\u001b[0m\n\u001b[1;32m-> 2891\u001b[1;33m                 \u001b[1;32mreturn\u001b[0m \u001b[0mself\u001b[0m\u001b[1;33m.\u001b[0m\u001b[0m_engine\u001b[0m\u001b[1;33m.\u001b[0m\u001b[0mget_loc\u001b[0m\u001b[1;33m(\u001b[0m\u001b[0mcasted_key\u001b[0m\u001b[1;33m)\u001b[0m\u001b[1;33m\u001b[0m\u001b[1;33m\u001b[0m\u001b[0m\n\u001b[0m\u001b[0;32m   2892\u001b[0m             \u001b[1;32mexcept\u001b[0m \u001b[0mKeyError\u001b[0m \u001b[1;32mas\u001b[0m \u001b[0merr\u001b[0m\u001b[1;33m:\u001b[0m\u001b[1;33m\u001b[0m\u001b[1;33m\u001b[0m\u001b[0m\n",
      "\u001b[1;32mpandas\\_libs\\index.pyx\u001b[0m in \u001b[0;36mpandas._libs.index.IndexEngine.get_loc\u001b[1;34m()\u001b[0m\n",
      "\u001b[1;32mpandas\\_libs\\index.pyx\u001b[0m in \u001b[0;36mpandas._libs.index.IndexEngine.get_loc\u001b[1;34m()\u001b[0m\n",
      "\u001b[1;32mpandas\\_libs\\hashtable_class_helper.pxi\u001b[0m in \u001b[0;36mpandas._libs.hashtable.PyObjectHashTable.get_item\u001b[1;34m()\u001b[0m\n",
      "\u001b[1;32mpandas\\_libs\\hashtable_class_helper.pxi\u001b[0m in \u001b[0;36mpandas._libs.hashtable.PyObjectHashTable.get_item\u001b[1;34m()\u001b[0m\n",
      "\u001b[1;31mKeyError\u001b[0m: './channelTitle'",
      "\nThe above exception was the direct cause of the following exception:\n",
      "\u001b[1;31mKeyError\u001b[0m                                  Traceback (most recent call last)",
      "\u001b[1;32m<timed exec>\u001b[0m in \u001b[0;36m<module>\u001b[1;34m\u001b[0m\n",
      "\u001b[1;32mc:\\programming\\venv_307\\lib\\site-packages\\pandas\\core\\frame.py\u001b[0m in \u001b[0;36m__getitem__\u001b[1;34m(self, key)\u001b[0m\n\u001b[0;32m   2900\u001b[0m             \u001b[1;32mif\u001b[0m \u001b[0mself\u001b[0m\u001b[1;33m.\u001b[0m\u001b[0mcolumns\u001b[0m\u001b[1;33m.\u001b[0m\u001b[0mnlevels\u001b[0m \u001b[1;33m>\u001b[0m \u001b[1;36m1\u001b[0m\u001b[1;33m:\u001b[0m\u001b[1;33m\u001b[0m\u001b[1;33m\u001b[0m\u001b[0m\n\u001b[0;32m   2901\u001b[0m                 \u001b[1;32mreturn\u001b[0m \u001b[0mself\u001b[0m\u001b[1;33m.\u001b[0m\u001b[0m_getitem_multilevel\u001b[0m\u001b[1;33m(\u001b[0m\u001b[0mkey\u001b[0m\u001b[1;33m)\u001b[0m\u001b[1;33m\u001b[0m\u001b[1;33m\u001b[0m\u001b[0m\n\u001b[1;32m-> 2902\u001b[1;33m             \u001b[0mindexer\u001b[0m \u001b[1;33m=\u001b[0m \u001b[0mself\u001b[0m\u001b[1;33m.\u001b[0m\u001b[0mcolumns\u001b[0m\u001b[1;33m.\u001b[0m\u001b[0mget_loc\u001b[0m\u001b[1;33m(\u001b[0m\u001b[0mkey\u001b[0m\u001b[1;33m)\u001b[0m\u001b[1;33m\u001b[0m\u001b[1;33m\u001b[0m\u001b[0m\n\u001b[0m\u001b[0;32m   2903\u001b[0m             \u001b[1;32mif\u001b[0m \u001b[0mis_integer\u001b[0m\u001b[1;33m(\u001b[0m\u001b[0mindexer\u001b[0m\u001b[1;33m)\u001b[0m\u001b[1;33m:\u001b[0m\u001b[1;33m\u001b[0m\u001b[1;33m\u001b[0m\u001b[0m\n\u001b[0;32m   2904\u001b[0m                 \u001b[0mindexer\u001b[0m \u001b[1;33m=\u001b[0m \u001b[1;33m[\u001b[0m\u001b[0mindexer\u001b[0m\u001b[1;33m]\u001b[0m\u001b[1;33m\u001b[0m\u001b[1;33m\u001b[0m\u001b[0m\n",
      "\u001b[1;32mc:\\programming\\venv_307\\lib\\site-packages\\pandas\\core\\indexes\\base.py\u001b[0m in \u001b[0;36mget_loc\u001b[1;34m(self, key, method, tolerance)\u001b[0m\n\u001b[0;32m   2891\u001b[0m                 \u001b[1;32mreturn\u001b[0m \u001b[0mself\u001b[0m\u001b[1;33m.\u001b[0m\u001b[0m_engine\u001b[0m\u001b[1;33m.\u001b[0m\u001b[0mget_loc\u001b[0m\u001b[1;33m(\u001b[0m\u001b[0mcasted_key\u001b[0m\u001b[1;33m)\u001b[0m\u001b[1;33m\u001b[0m\u001b[1;33m\u001b[0m\u001b[0m\n\u001b[0;32m   2892\u001b[0m             \u001b[1;32mexcept\u001b[0m \u001b[0mKeyError\u001b[0m \u001b[1;32mas\u001b[0m \u001b[0merr\u001b[0m\u001b[1;33m:\u001b[0m\u001b[1;33m\u001b[0m\u001b[1;33m\u001b[0m\u001b[0m\n\u001b[1;32m-> 2893\u001b[1;33m                 \u001b[1;32mraise\u001b[0m \u001b[0mKeyError\u001b[0m\u001b[1;33m(\u001b[0m\u001b[0mkey\u001b[0m\u001b[1;33m)\u001b[0m \u001b[1;32mfrom\u001b[0m \u001b[0merr\u001b[0m\u001b[1;33m\u001b[0m\u001b[1;33m\u001b[0m\u001b[0m\n\u001b[0m\u001b[0;32m   2894\u001b[0m \u001b[1;33m\u001b[0m\u001b[0m\n\u001b[0;32m   2895\u001b[0m         \u001b[1;32mif\u001b[0m \u001b[0mtolerance\u001b[0m \u001b[1;32mis\u001b[0m \u001b[1;32mnot\u001b[0m \u001b[1;32mNone\u001b[0m\u001b[1;33m:\u001b[0m\u001b[1;33m\u001b[0m\u001b[1;33m\u001b[0m\u001b[0m\n",
      "\u001b[1;31mKeyError\u001b[0m: './channelTitle'"
     ]
    }
   ],
   "source": [
    "%%time\n",
    "\n",
    "ss = df[\"channelTitle\"].value_counts().sort_values(ascending=False)\n",
    "\n",
    "\n",
    "index = df[\"channelTitle\"].value_counts().sort_values(ascending=False).index[0]\n"
   ]
  },
  {
   "cell_type": "code",
   "execution_count": 192,
   "id": "bbe0e951",
   "metadata": {},
   "outputs": [],
   "source": [
    "import pandas as pd\n",
    "\n",
    "\n",
    "channel =pd.read_csv('https://raw.githubusercontent.com/Datamanim/datarepo/main/youtube/channelInfo.csv')\n",
    "video =pd.read_csv('https://raw.githubusercontent.com/Datamanim/datarepo/main/youtube/videoInfo.csv')\n",
    "\n",
    "# display(channel.head())\n",
    "# display(video.head())\n",
    "\n",
    "channel.to_csv(path_or_buf=\"channel.csv\")\n",
    "video.to_csv(\"video.csv\")\n"
   ]
  },
  {
   "cell_type": "code",
   "execution_count": 45,
   "id": "4815e535",
   "metadata": {},
   "outputs": [
    {
     "name": "stdout",
     "output_type": "stream",
     "text": [
      "<class 'pandas.core.frame.DataFrame'>\n",
      "RangeIndex: 1395 entries, 0 to 1394\n",
      "Data columns (total 7 columns):\n",
      " #   Column       Non-Null Count  Dtype \n",
      "---  ------       --------------  ----- \n",
      " 0   Unnamed: 0   1395 non-null   int64 \n",
      " 1   channelid    1395 non-null   object\n",
      " 2   subcnt       1395 non-null   int64 \n",
      " 3   viewcnt      1395 non-null   int64 \n",
      " 4   videocnt     1395 non-null   int64 \n",
      " 5   ct           1395 non-null   object\n",
      " 6   channelname  1395 non-null   object\n",
      "dtypes: int64(4), object(3)\n",
      "memory usage: 76.4+ KB\n",
      "<class 'pandas.core.frame.DataFrame'>\n",
      "RangeIndex: 1395 entries, 0 to 1394\n",
      "Data columns (total 7 columns):\n",
      " #   Column       Non-Null Count  Dtype         \n",
      "---  ------       --------------  -----         \n",
      " 0   Unnamed: 0   1395 non-null   int64         \n",
      " 1   channelid    1395 non-null   object        \n",
      " 2   subcnt       1395 non-null   int64         \n",
      " 3   viewcnt      1395 non-null   int64         \n",
      " 4   videocnt     1395 non-null   int64         \n",
      " 5   ct           1395 non-null   datetime64[ns]\n",
      " 6   channelname  1395 non-null   object        \n",
      "dtypes: datetime64[ns](1), int64(4), object(2)\n",
      "memory usage: 76.4+ KB\n"
     ]
    },
    {
     "data": {
      "text/html": [
       "<div>\n",
       "<style scoped>\n",
       "    .dataframe tbody tr th:only-of-type {\n",
       "        vertical-align: middle;\n",
       "    }\n",
       "\n",
       "    .dataframe tbody tr th {\n",
       "        vertical-align: top;\n",
       "    }\n",
       "\n",
       "    .dataframe thead th {\n",
       "        text-align: right;\n",
       "    }\n",
       "</style>\n",
       "<table border=\"1\" class=\"dataframe\">\n",
       "  <thead>\n",
       "    <tr style=\"text-align: right;\">\n",
       "      <th></th>\n",
       "      <th>Unnamed: 0</th>\n",
       "      <th>channelid</th>\n",
       "      <th>subcnt</th>\n",
       "      <th>viewcnt</th>\n",
       "      <th>videocnt</th>\n",
       "      <th>ct</th>\n",
       "      <th>channelname</th>\n",
       "    </tr>\n",
       "  </thead>\n",
       "  <tbody>\n",
       "    <tr>\n",
       "      <th>0</th>\n",
       "      <td>0</td>\n",
       "      <td>UCkQCwnkQfgSuPTTnw_Y7v7w</td>\n",
       "      <td>1310000</td>\n",
       "      <td>410238653</td>\n",
       "      <td>736</td>\n",
       "      <td>2021-09-30 03:01:03</td>\n",
       "      <td>꽈뚜룹</td>\n",
       "    </tr>\n",
       "    <tr>\n",
       "      <th>1</th>\n",
       "      <td>1</td>\n",
       "      <td>UCkQCwnkQfgSuPTTnw_Y7v7w</td>\n",
       "      <td>1310000</td>\n",
       "      <td>412531322</td>\n",
       "      <td>736</td>\n",
       "      <td>2021-09-30 09:01:03</td>\n",
       "      <td>꽈뚜룹</td>\n",
       "    </tr>\n",
       "    <tr>\n",
       "      <th>2</th>\n",
       "      <td>2</td>\n",
       "      <td>UCkQCwnkQfgSuPTTnw_Y7v7w</td>\n",
       "      <td>1310000</td>\n",
       "      <td>412531322</td>\n",
       "      <td>735</td>\n",
       "      <td>2021-09-30 15:01:03</td>\n",
       "      <td>꽈뚜룹</td>\n",
       "    </tr>\n",
       "    <tr>\n",
       "      <th>3</th>\n",
       "      <td>3</td>\n",
       "      <td>UCkQCwnkQfgSuPTTnw_Y7v7w</td>\n",
       "      <td>1310000</td>\n",
       "      <td>412531322</td>\n",
       "      <td>737</td>\n",
       "      <td>2021-09-30 21:01:03</td>\n",
       "      <td>꽈뚜룹</td>\n",
       "    </tr>\n",
       "    <tr>\n",
       "      <th>4</th>\n",
       "      <td>4</td>\n",
       "      <td>UCkQCwnkQfgSuPTTnw_Y7v7w</td>\n",
       "      <td>1320000</td>\n",
       "      <td>412531322</td>\n",
       "      <td>737</td>\n",
       "      <td>2021-10-01 03:01:04</td>\n",
       "      <td>꽈뚜룹</td>\n",
       "    </tr>\n",
       "  </tbody>\n",
       "</table>\n",
       "</div>"
      ],
      "text/plain": [
       "   Unnamed: 0                 channelid   subcnt    viewcnt  videocnt  \\\n",
       "0           0  UCkQCwnkQfgSuPTTnw_Y7v7w  1310000  410238653       736   \n",
       "1           1  UCkQCwnkQfgSuPTTnw_Y7v7w  1310000  412531322       736   \n",
       "2           2  UCkQCwnkQfgSuPTTnw_Y7v7w  1310000  412531322       735   \n",
       "3           3  UCkQCwnkQfgSuPTTnw_Y7v7w  1310000  412531322       737   \n",
       "4           4  UCkQCwnkQfgSuPTTnw_Y7v7w  1320000  412531322       737   \n",
       "\n",
       "                   ct channelname  \n",
       "0 2021-09-30 03:01:03         꽈뚜룹  \n",
       "1 2021-09-30 09:01:03         꽈뚜룹  \n",
       "2 2021-09-30 15:01:03         꽈뚜룹  \n",
       "3 2021-09-30 21:01:03         꽈뚜룹  \n",
       "4 2021-10-01 03:01:04         꽈뚜룹  "
      ]
     },
     "execution_count": 45,
     "metadata": {},
     "output_type": "execute_result"
    }
   ],
   "source": [
    "channel = pd.read_csv(\"channel.csv\")\n",
    "i = channel.info()\n",
    "channel[\"ct\"] = pd.to_datetime(channel[\"ct\"])\n",
    "channel.info()\n",
    "channel.head()"
   ]
  },
  {
   "cell_type": "markdown",
   "id": "0163abd6",
   "metadata": {},
   "source": [
    "Channel 데이터중 2021-10-03일 이후 각 채널의 처음 기록 됐던 구독자 수(subcnt)를 출력하라"
   ]
  },
  {
   "cell_type": "code",
   "execution_count": 53,
   "id": "28b1c38f",
   "metadata": {},
   "outputs": [
    {
     "name": "stdout",
     "output_type": "stream",
     "text": [
      "<class 'pandas.core.series.Series'> Int64Index([12], dtype='int64') [1330000]\n",
      "<class 'pandas.core.series.Series'> Int64Index([139], dtype='int64') [257000]\n",
      "<class 'pandas.core.series.Series'> Int64Index([266], dtype='int64') [322000]\n",
      "<class 'pandas.core.series.Series'> Int64Index([393], dtype='int64') [922000]\n",
      "<class 'pandas.core.series.Series'> Int64Index([520], dtype='int64') [55000]\n",
      "<class 'pandas.core.series.Series'> Int64Index([647], dtype='int64') [215000]\n",
      "<class 'pandas.core.series.Series'> Int64Index([774], dtype='int64') [14900]\n",
      "<class 'pandas.core.series.Series'> Int64Index([901], dtype='int64') [7520]\n",
      "<class 'pandas.core.series.Series'> Int64Index([1028], dtype='int64') [10100]\n",
      "<class 'pandas.core.series.Series'> Int64Index([1155], dtype='int64') [471000]\n",
      "<class 'pandas.core.series.Series'> Int64Index([1276], dtype='int64') [54300]\n",
      "[{'꽈뚜룹': array([1330000], dtype=int64)}, {'야전삽짱재': array([257000], dtype=int64)}, {'츄정ChuJeong': array([322000], dtype=int64)}, {'논리왕 전기': array([922000], dtype=int64)}, {'와글와글 WagleWagle': array([55000], dtype=int64)}, {'조나단': array([215000], dtype=int64)}, {'형사!탐정되다': array([14900], dtype=int64)}, {'김농밀의 농밀한 삶': array([7520], dtype=int64)}, {'릴펄 Lilpearl': array([10100], dtype=int64)}, {'곽토리 kwak tori': array([471000], dtype=int64)}, {'Balming Tiger': array([54300], dtype=int64)}]\n"
     ]
    }
   ],
   "source": [
    "df = channel[ channel[\"ct\"] >= '2021-10-03']\n",
    "df = df[[\"channelname\",\"ct\",\"subcnt\"]]\n",
    "names = df[\"channelname\"].unique()\n",
    "ll = []\n",
    "for i in names:\n",
    "    sf = df[df[\"channelname\"] == i]\n",
    "    sf = sf.sort_values([\"ct\"])\n",
    "#     print(sf.head(1))\n",
    "    subcnt = sf.head(1)[\"subcnt\"]\n",
    "#     print(\"sub\", subcnt)\n",
    "    print(type(subcnt), subcnt.index, subcnt.values)\n",
    "    ll.append({i:subcnt.values})    \n",
    "\n",
    "print(ll)"
   ]
  },
  {
   "cell_type": "code",
   "execution_count": 59,
   "id": "bb37c332",
   "metadata": {},
   "outputs": [
    {
     "name": "stdout",
     "output_type": "stream",
     "text": [
      "        channelname   subcnt\n",
      "0     Balming Tiger    54300\n",
      "1     곽토리 kwak tori   471000\n",
      "2        김농밀의 농밀한 삶     7520\n",
      "3               꽈뚜룹  1330000\n",
      "4            논리왕 전기   922000\n",
      "5       릴펄 Lilpearl    10100\n",
      "6             야전삽짱재   257000\n",
      "7   와글와글 WagleWagle    55000\n",
      "8               조나단   215000\n",
      "9        츄정ChuJeong   322000\n",
      "10          형사!탐정되다    14900\n",
      "        channelname   subcnt\n",
      "0            논리왕 전기   922000\n",
      "1             야전삽짱재   257000\n",
      "2        츄정ChuJeong   322000\n",
      "3        김농밀의 농밀한 삶     7520\n",
      "4       릴펄 Lilpearl    10100\n",
      "5   와글와글 WagleWagle    55000\n",
      "6               조나단   215000\n",
      "7           형사!탐정되다    14900\n",
      "8     Balming Tiger    54300\n",
      "9     곽토리 kwak tori   471000\n",
      "10              꽈뚜룹  1330000\n"
     ]
    }
   ],
   "source": [
    "channel.ct = pd.to_datetime(channel.ct)\n",
    "\n",
    "t1 =channel[channel.ct >= pd.to_datetime('2021-10-03')].sort_values(['channelname','ct']).drop_duplicates('channelname')\n",
    "a1 = t1[['channelname','subcnt']].reset_index(drop=True)\n",
    "print(a1)\n",
    "target = channel[channel.ct >= pd.to_datetime('2021-10-03')].sort_values(['ct','channelname']).drop_duplicates('channelname')\n",
    "answer = target[['channelname','subcnt']].reset_index(drop=True)\n",
    "print(answer)"
   ]
  },
  {
   "cell_type": "markdown",
   "id": "bfc76088",
   "metadata": {},
   "source": [
    "### 11 각채널의 2021-10-03 03:00:00 ~ 2021-11-01 15:00:00 까지 구독자수 (subcnt) 의 증가량을 구하여라"
   ]
  },
  {
   "cell_type": "code",
   "execution_count": 140,
   "id": "ce99bbe6",
   "metadata": {},
   "outputs": [
    {
     "name": "stdout",
     "output_type": "stream",
     "text": [
      "        channelname   rate\n",
      "0     Balming Tiger   2500\n",
      "1     곽토리 kwak tori  -2000\n",
      "2        김농밀의 농밀한 삶   1540\n",
      "3               꽈뚜룹  70000\n",
      "4            논리왕 전기 -11000\n",
      "5       릴펄 Lilpearl  11000\n",
      "6             야전삽짱재  11000\n",
      "7   와글와글 WagleWagle      0\n",
      "8               조나단  12000\n",
      "9        츄정ChuJeong   1000\n",
      "10          형사!탐정되다  10300\n"
     ]
    },
    {
     "data": {
      "text/html": [
       "<div>\n",
       "<style scoped>\n",
       "    .dataframe tbody tr th:only-of-type {\n",
       "        vertical-align: middle;\n",
       "    }\n",
       "\n",
       "    .dataframe tbody tr th {\n",
       "        vertical-align: top;\n",
       "    }\n",
       "\n",
       "    .dataframe thead th {\n",
       "        text-align: right;\n",
       "    }\n",
       "</style>\n",
       "<table border=\"1\" class=\"dataframe\">\n",
       "  <thead>\n",
       "    <tr style=\"text-align: right;\">\n",
       "      <th></th>\n",
       "      <th>channelname</th>\n",
       "      <th>rate</th>\n",
       "    </tr>\n",
       "  </thead>\n",
       "  <tbody>\n",
       "    <tr>\n",
       "      <th>0</th>\n",
       "      <td>Balming Tiger</td>\n",
       "      <td>2500</td>\n",
       "    </tr>\n",
       "    <tr>\n",
       "      <th>1</th>\n",
       "      <td>곽토리 kwak tori</td>\n",
       "      <td>-2000</td>\n",
       "    </tr>\n",
       "    <tr>\n",
       "      <th>2</th>\n",
       "      <td>김농밀의 농밀한 삶</td>\n",
       "      <td>1540</td>\n",
       "    </tr>\n",
       "    <tr>\n",
       "      <th>3</th>\n",
       "      <td>꽈뚜룹</td>\n",
       "      <td>70000</td>\n",
       "    </tr>\n",
       "    <tr>\n",
       "      <th>4</th>\n",
       "      <td>논리왕 전기</td>\n",
       "      <td>-11000</td>\n",
       "    </tr>\n",
       "    <tr>\n",
       "      <th>5</th>\n",
       "      <td>릴펄 Lilpearl</td>\n",
       "      <td>11000</td>\n",
       "    </tr>\n",
       "    <tr>\n",
       "      <th>6</th>\n",
       "      <td>야전삽짱재</td>\n",
       "      <td>11000</td>\n",
       "    </tr>\n",
       "    <tr>\n",
       "      <th>7</th>\n",
       "      <td>와글와글 WagleWagle</td>\n",
       "      <td>0</td>\n",
       "    </tr>\n",
       "    <tr>\n",
       "      <th>8</th>\n",
       "      <td>조나단</td>\n",
       "      <td>12000</td>\n",
       "    </tr>\n",
       "    <tr>\n",
       "      <th>9</th>\n",
       "      <td>츄정ChuJeong</td>\n",
       "      <td>1000</td>\n",
       "    </tr>\n",
       "    <tr>\n",
       "      <th>10</th>\n",
       "      <td>형사!탐정되다</td>\n",
       "      <td>10300</td>\n",
       "    </tr>\n",
       "  </tbody>\n",
       "</table>\n",
       "</div>"
      ],
      "text/plain": [
       "        channelname   rate\n",
       "0     Balming Tiger   2500\n",
       "1     곽토리 kwak tori  -2000\n",
       "2        김농밀의 농밀한 삶   1540\n",
       "3               꽈뚜룹  70000\n",
       "4            논리왕 전기 -11000\n",
       "5       릴펄 Lilpearl  11000\n",
       "6             야전삽짱재  11000\n",
       "7   와글와글 WagleWagle      0\n",
       "8               조나단  12000\n",
       "9        츄정ChuJeong   1000\n",
       "10          형사!탐정되다  10300"
      ]
     },
     "execution_count": 140,
     "metadata": {},
     "output_type": "execute_result"
    }
   ],
   "source": [
    "t1 =channel[(channel.ct >= pd.to_datetime('2021-10-03 03:00:00')) &  (channel.ct <= pd.to_datetime('2021-11-01 15:00:00'))]\n",
    "# t1 = t1[[\"channelname\",\"ct\"]]\n",
    "# begin = t1.sort_values([\"channelname\",\"ct\"])\n",
    "# print(begin)\n",
    "begin = t1.sort_values([\"channelname\",\"ct\"]).drop_duplicates(\"channelname\")\n",
    "\n",
    "begin = begin[[\"channelname\",\"subcnt\"]]\n",
    "begin.reset_index(drop=True, inplace=True)\n",
    "end = t1.sort_values([\"channelname\",\"ct\"]).drop_duplicates(\"channelname\",keep='last')\n",
    "end = end[[\"channelname\",\"subcnt\"]]\n",
    "end.reset_index(drop=True, inplace=True)\n",
    "\n",
    "# tt = pd.merge(begin,end)\n",
    "# tt['del'] = tt['end_sub'] - tt['start_sub']\n",
    "\n",
    "begin[\"last\"] = end[\"subcnt\"]\n",
    "begin[\"rate\"] = round((begin[\"last\"] - begin[\"subcnt\"]),3)\n",
    "print(begin[[\"channelname\",\"rate\"]])\n",
    "begin.loc[:,[\"channelname\",\"rate\"]]\n"
   ]
  },
  {
   "cell_type": "code",
   "execution_count": 141,
   "id": "4a4e1a31",
   "metadata": {},
   "outputs": [
    {
     "data": {
      "text/html": [
       "<div>\n",
       "<style scoped>\n",
       "    .dataframe tbody tr th:only-of-type {\n",
       "        vertical-align: middle;\n",
       "    }\n",
       "\n",
       "    .dataframe tbody tr th {\n",
       "        vertical-align: top;\n",
       "    }\n",
       "\n",
       "    .dataframe thead th {\n",
       "        text-align: right;\n",
       "    }\n",
       "</style>\n",
       "<table border=\"1\" class=\"dataframe\">\n",
       "  <thead>\n",
       "    <tr style=\"text-align: right;\">\n",
       "      <th></th>\n",
       "      <th>channelname</th>\n",
       "      <th>del</th>\n",
       "    </tr>\n",
       "  </thead>\n",
       "  <tbody>\n",
       "    <tr>\n",
       "      <th>0</th>\n",
       "      <td>꽈뚜룹</td>\n",
       "      <td>70000</td>\n",
       "    </tr>\n",
       "    <tr>\n",
       "      <th>1</th>\n",
       "      <td>야전삽짱재</td>\n",
       "      <td>11000</td>\n",
       "    </tr>\n",
       "    <tr>\n",
       "      <th>2</th>\n",
       "      <td>츄정ChuJeong</td>\n",
       "      <td>1000</td>\n",
       "    </tr>\n",
       "    <tr>\n",
       "      <th>3</th>\n",
       "      <td>논리왕 전기</td>\n",
       "      <td>-11000</td>\n",
       "    </tr>\n",
       "    <tr>\n",
       "      <th>4</th>\n",
       "      <td>와글와글 WagleWagle</td>\n",
       "      <td>0</td>\n",
       "    </tr>\n",
       "    <tr>\n",
       "      <th>5</th>\n",
       "      <td>조나단</td>\n",
       "      <td>12000</td>\n",
       "    </tr>\n",
       "    <tr>\n",
       "      <th>6</th>\n",
       "      <td>형사!탐정되다</td>\n",
       "      <td>10300</td>\n",
       "    </tr>\n",
       "    <tr>\n",
       "      <th>7</th>\n",
       "      <td>김농밀의 농밀한 삶</td>\n",
       "      <td>1540</td>\n",
       "    </tr>\n",
       "    <tr>\n",
       "      <th>8</th>\n",
       "      <td>릴펄 Lilpearl</td>\n",
       "      <td>11000</td>\n",
       "    </tr>\n",
       "    <tr>\n",
       "      <th>9</th>\n",
       "      <td>곽토리 kwak tori</td>\n",
       "      <td>-2000</td>\n",
       "    </tr>\n",
       "    <tr>\n",
       "      <th>10</th>\n",
       "      <td>Balming Tiger</td>\n",
       "      <td>2500</td>\n",
       "    </tr>\n",
       "  </tbody>\n",
       "</table>\n",
       "</div>"
      ],
      "text/plain": [
       "        channelname    del\n",
       "0               꽈뚜룹  70000\n",
       "1             야전삽짱재  11000\n",
       "2        츄정ChuJeong   1000\n",
       "3            논리왕 전기 -11000\n",
       "4   와글와글 WagleWagle      0\n",
       "5               조나단  12000\n",
       "6           형사!탐정되다  10300\n",
       "7        김농밀의 농밀한 삶   1540\n",
       "8       릴펄 Lilpearl  11000\n",
       "9     곽토리 kwak tori  -2000\n",
       "10    Balming Tiger   2500"
      ]
     },
     "metadata": {},
     "output_type": "display_data"
    }
   ],
   "source": [
    "end = channel.loc[channel.ct.dt.strftime('%Y-%m-%d %H') =='2021-11-01 15']\n",
    "start = channel.loc[channel.ct.dt.strftime('%Y-%m-%d %H') =='2021-10-03 03']\n",
    "\n",
    "end_df = end[['channelname','subcnt']].reset_index(drop=True)\n",
    "start_df = start[['channelname','subcnt']].reset_index(drop=True)\n",
    "\n",
    "end_df.columns = ['channelname','end_sub']\n",
    "start_df.columns = ['channelname','start_sub']\n",
    "\n",
    "\n",
    "tt = pd.merge(start_df,end_df)\n",
    "tt['del'] = tt['end_sub'] - tt['start_sub']\n",
    "result = tt[['channelname','del']]\n",
    "display(result)"
   ]
  },
  {
   "cell_type": "markdown",
   "id": "7d371fe0",
   "metadata": {},
   "source": [
    "### 12\n",
    "각 비디오는 10분 간격으로 구독자수, 좋아요, 싫어요수, 댓글수가 수집된것으로 알려졌다. 공범 EP1의 비디오정보 데이터중 수집간격이 5분 이하, 20분이상인 데이터 구간( 해당 시점 전,후) 의 시각을 모두 출력하라"
   ]
  },
  {
   "cell_type": "code",
   "execution_count": 9,
   "id": "7ae4f6c8",
   "metadata": {},
   "outputs": [
    {
     "name": "stdout",
     "output_type": "stream",
     "text": [
      "15201\n",
      "       index  Unnamed: 0      videopk  viewcnt  likecnt  dislikecnt  \\\n",
      "9          9           9  c5JQp6xafqc  1697079    30724         717   \n",
      "10        10          10  c5JQp6xafqc     6396      680           3   \n",
      "11        11          11  c5JQp6xafqc    13087     1113           7   \n",
      "417      417         417  c5JQp6xafqc  1663790    30454         703   \n",
      "418      418         418  c5JQp6xafqc  1700233    30747         716   \n",
      "...      ...         ...          ...      ...      ...         ...   \n",
      "14256  14256       14256  AxGKHmXyuAE  1473758    22863         315   \n",
      "14257  14257       14257  AxGKHmXyuAE  1474396    22867         317   \n",
      "14934  14934       14934  AxGKHmXyuAE  1750222    24494         389   \n",
      "14935  14935       14935  yZt-h-KcmUE    82015     3338          78   \n",
      "14936  14936       14936  yZt-h-KcmUE   112026     4256         224   \n",
      "\n",
      "       favoritecnt  cmcnt                  ct videoname  \n",
      "9                0   6621 2021-10-10 16:50:03    공범 EP1  \n",
      "10               0    226 2021-10-07 19:10:03    공범 EP1  \n",
      "11               0    273 2021-10-07 19:20:02    공범 EP1  \n",
      "417              0   6581 2021-10-10 15:10:03    공범 EP1  \n",
      "418              0   6632 2021-10-10 17:00:03    공범 EP1  \n",
      "...            ...    ...                 ...       ...  \n",
      "14256            0  12687 2021-10-27 22:30:04    공범 EP6  \n",
      "14257            0  12691 2021-10-27 22:40:04    공범 EP6  \n",
      "14934            0  13025 2021-11-01 15:30:04    공범 EP6  \n",
      "14935            0   1438 2021-10-30 19:20:04    공범 EP8  \n",
      "14936            0   2432 2021-10-30 19:30:08    공범 EP8  \n",
      "\n",
      "[72 rows x 10 columns]\n"
     ]
    }
   ],
   "source": [
    "video = pd.read_csv(\"video.csv\")\n",
    "# video = video.drop_duplicates()7777\n",
    "# video = video.dropna()\n",
    "video.reset_index(inplace=True)\n",
    "video.ct = pd.to_datetime(video.ct)\n",
    "dd =video.ct.diff(1)\n",
    "\n",
    "from datetime import timedelta\n",
    "tt =dd[(dd <= timedelta(minutes=5)) | (dd >= timedelta(minutes=20))].index\n",
    "tt2 =[]\n",
    "\n",
    "length = len(video)\n",
    "print(length)\n",
    "for n in tt:\n",
    "    tt2.append(n-1)\n",
    "    tt2.append(n)\n",
    "    tt2.append(n+1)\n",
    "\n",
    "s = pd.Series(index=tt2, data = tt2)\n",
    "# print(s.index)\n",
    "# tt = s.index\n",
    "# print(video.loc[722,:])\n",
    "\n",
    "print(video.loc[s.index,:])\n",
    "\n",
    "# for i in video.iterrows():\n",
    "#     print(i)\n",
    "\n",
    "# for i in s.index:\n",
    "#     try:\n",
    "#         print(video.loc[i,:])\n",
    "#     except Exception as e :\n",
    "#         print(i,e)"
   ]
  },
  {
   "cell_type": "code",
   "execution_count": 17,
   "id": "02883ee5",
   "metadata": {},
   "outputs": [
    {
     "name": "stdout",
     "output_type": "stream",
     "text": [
      "[ 81 240  58 882 593 528  92 328 584 639 760 862 498 605 395 360  19 227\n",
      " 294 954 675 670 800 561 324  78 304 691 149 510 623 753 428 817 112 495\n",
      " 766 211 101 825 269 926 664 106 784 411 215 922 210 267 121 224 936  81\n",
      " 456  63 202  42 200 562 676 125 979 761 905 150 936 320  11 650 236 831\n",
      " 405 783 467 422 476 444 962  60 722 725 579 408 340 572 627 787 164 895\n",
      " 977 697 444 124 540  14 413 787 196 627]\n"
     ]
    }
   ],
   "source": [
    "import scipy.stats as st\n",
    "\n",
    "x = st.randint.rvs(10,1000,size=100)\n",
    "print(x)"
   ]
  },
  {
   "cell_type": "markdown",
   "id": "e0543952",
   "metadata": {},
   "source": [
    "### 16 각 에피소드의 시작날짜(년-월-일)를 에피소드 이름과 묶어 데이터 프레임으로 만들고 출력하라"
   ]
  },
  {
   "cell_type": "code",
   "execution_count": 35,
   "id": "e612eb8c",
   "metadata": {},
   "outputs": [
    {
     "name": "stdout",
     "output_type": "stream",
     "text": [
      "channel\t dd\t df\t length\t n\t pd\t s\t sf\t st\t \n",
      "timedelta\t tt\t tt2\t video\t x\t \n"
     ]
    },
    {
     "data": {
      "text/plain": [
       "0        2021-10-10_ 공범 EP1\n",
       "1        2021-10-10_ 공범 EP1\n",
       "2        2021-10-10_ 공범 EP1\n",
       "3        2021-10-10_ 공범 EP1\n",
       "4        2021-10-10_ 공범 EP1\n",
       "                ...        \n",
       "15196    2021-11-01_ 공범 EP8\n",
       "15197    2021-11-01_ 공범 EP8\n",
       "15198    2021-11-01_ 공범 EP8\n",
       "15199    2021-11-01_ 공범 EP8\n",
       "15200    2021-11-01_ 공범 EP8\n",
       "Name: hh, Length: 15201, dtype: object"
      ]
     },
     "execution_count": 35,
     "metadata": {},
     "output_type": "execute_result"
    }
   ],
   "source": [
    "%who\n",
    "video[\"date\"] = pd.to_datetime(video[\"ct\"], format = \"%Y%m%d\")\n",
    "video[\"date\"] = video[\"date\"].dt.strftime(\"%Y-%m-%d\")\n",
    "video[\"hh\"] = video[\"date\"] +\"_\"+ video[\"videoname\"]\n",
    "video[\"hh\"]"
   ]
  },
  {
   "cell_type": "code",
   "execution_count": 37,
   "id": "704384ce",
   "metadata": {},
   "outputs": [
    {
     "data": {
      "text/html": [
       "<div>\n",
       "<style scoped>\n",
       "    .dataframe tbody tr th:only-of-type {\n",
       "        vertical-align: middle;\n",
       "    }\n",
       "\n",
       "    .dataframe tbody tr th {\n",
       "        vertical-align: top;\n",
       "    }\n",
       "\n",
       "    .dataframe thead th {\n",
       "        text-align: right;\n",
       "    }\n",
       "</style>\n",
       "<table border=\"1\" class=\"dataframe\">\n",
       "  <thead>\n",
       "    <tr style=\"text-align: right;\">\n",
       "      <th></th>\n",
       "      <th>date</th>\n",
       "      <th>videoname</th>\n",
       "    </tr>\n",
       "  </thead>\n",
       "  <tbody>\n",
       "    <tr>\n",
       "      <th>10</th>\n",
       "      <td>2021-10-07</td>\n",
       "      <td>공범 EP1</td>\n",
       "    </tr>\n",
       "    <tr>\n",
       "      <th>3496</th>\n",
       "      <td>2021-10-09</td>\n",
       "      <td>공범 EP2</td>\n",
       "    </tr>\n",
       "    <tr>\n",
       "      <th>6696</th>\n",
       "      <td>2021-10-14</td>\n",
       "      <td>공범 EP3</td>\n",
       "    </tr>\n",
       "    <tr>\n",
       "      <th>9264</th>\n",
       "      <td>2021-10-16</td>\n",
       "      <td>공범 EP4</td>\n",
       "    </tr>\n",
       "    <tr>\n",
       "      <th>11544</th>\n",
       "      <td>2021-10-21</td>\n",
       "      <td>공범 EP5</td>\n",
       "    </tr>\n",
       "    <tr>\n",
       "      <th>13661</th>\n",
       "      <td>2021-10-23</td>\n",
       "      <td>공범 EP6</td>\n",
       "    </tr>\n",
       "    <tr>\n",
       "      <th>13106</th>\n",
       "      <td>2021-10-28</td>\n",
       "      <td>공범 EP7</td>\n",
       "    </tr>\n",
       "    <tr>\n",
       "      <th>14935</th>\n",
       "      <td>2021-10-30</td>\n",
       "      <td>공범 EP8</td>\n",
       "    </tr>\n",
       "  </tbody>\n",
       "</table>\n",
       "</div>"
      ],
      "text/plain": [
       "             date videoname\n",
       "10     2021-10-07    공범 EP1\n",
       "3496   2021-10-09    공범 EP2\n",
       "6696   2021-10-14    공범 EP3\n",
       "9264   2021-10-16    공범 EP4\n",
       "11544  2021-10-21    공범 EP5\n",
       "13661  2021-10-23    공범 EP6\n",
       "13106  2021-10-28    공범 EP7\n",
       "14935  2021-10-30    공범 EP8"
      ]
     },
     "metadata": {},
     "output_type": "display_data"
    }
   ],
   "source": [
    "start_date = video.sort_values(['ct','videoname']).drop_duplicates('videoname')[['ct','videoname']]\n",
    "start_date['date'] = start_date.ct.dt.date\n",
    "answer = start_date[['date','videoname']]\n",
    "display(answer)"
   ]
  },
  {
   "cell_type": "markdown",
   "id": "3aeb03c4",
   "metadata": {},
   "source": [
    "### 문제19\n",
    "video 정보의 가장 최근 데이터들에서 각 에피소드의 싫어요/좋아요 비율을 ratio 컬럼으로 만들고 videoname, ratio로 구성된 데이터 프레임을 ratio를 오름차순으로 정렬하라"
   ]
  },
  {
   "cell_type": "code",
   "execution_count": 43,
   "id": "93f3b008",
   "metadata": {},
   "outputs": [
    {
     "name": "stdout",
     "output_type": "stream",
     "text": [
      "<class 'pandas.core.frame.DataFrame'>\n",
      "RangeIndex: 15201 entries, 0 to 15200\n",
      "Data columns (total 14 columns):\n",
      " #   Column       Non-Null Count  Dtype         \n",
      "---  ------       --------------  -----         \n",
      " 0   index        15201 non-null  int64         \n",
      " 1   Unnamed: 0   15201 non-null  int64         \n",
      " 2   videopk      15201 non-null  object        \n",
      " 3   viewcnt      15201 non-null  int64         \n",
      " 4   likecnt      15201 non-null  int64         \n",
      " 5   dislikecnt   15201 non-null  int64         \n",
      " 6   favoritecnt  15201 non-null  int64         \n",
      " 7   cmcnt        15201 non-null  int64         \n",
      " 8   ct           15201 non-null  datetime64[ns]\n",
      " 9   videoname    15201 non-null  object        \n",
      " 10  date         15201 non-null  object        \n",
      " 11  hh           15201 non-null  object        \n",
      " 12  rate         15201 non-null  float64       \n",
      " 13  ratio        15201 non-null  float64       \n",
      "dtypes: datetime64[ns](1), float64(2), int64(7), object(4)\n",
      "memory usage: 1.6+ MB\n"
     ]
    },
    {
     "data": {
      "text/html": [
       "<div>\n",
       "<style scoped>\n",
       "    .dataframe tbody tr th:only-of-type {\n",
       "        vertical-align: middle;\n",
       "    }\n",
       "\n",
       "    .dataframe tbody tr th {\n",
       "        vertical-align: top;\n",
       "    }\n",
       "\n",
       "    .dataframe thead th {\n",
       "        text-align: right;\n",
       "    }\n",
       "</style>\n",
       "<table border=\"1\" class=\"dataframe\">\n",
       "  <thead>\n",
       "    <tr style=\"text-align: right;\">\n",
       "      <th></th>\n",
       "      <th>videoname</th>\n",
       "      <th>ratio</th>\n",
       "    </tr>\n",
       "  </thead>\n",
       "  <tbody>\n",
       "    <tr>\n",
       "      <th>10</th>\n",
       "      <td>공범 EP1</td>\n",
       "      <td>0.004412</td>\n",
       "    </tr>\n",
       "    <tr>\n",
       "      <th>3496</th>\n",
       "      <td>공범 EP2</td>\n",
       "      <td>0.004926</td>\n",
       "    </tr>\n",
       "    <tr>\n",
       "      <th>9264</th>\n",
       "      <td>공범 EP4</td>\n",
       "      <td>0.004946</td>\n",
       "    </tr>\n",
       "    <tr>\n",
       "      <th>9265</th>\n",
       "      <td>공범 EP4</td>\n",
       "      <td>0.005305</td>\n",
       "    </tr>\n",
       "    <tr>\n",
       "      <th>9266</th>\n",
       "      <td>공범 EP4</td>\n",
       "      <td>0.005834</td>\n",
       "    </tr>\n",
       "    <tr>\n",
       "      <th>...</th>\n",
       "      <td>...</td>\n",
       "      <td>...</td>\n",
       "    </tr>\n",
       "    <tr>\n",
       "      <th>15197</th>\n",
       "      <td>공범 EP8</td>\n",
       "      <td>0.141333</td>\n",
       "    </tr>\n",
       "    <tr>\n",
       "      <th>15199</th>\n",
       "      <td>공범 EP8</td>\n",
       "      <td>0.141334</td>\n",
       "    </tr>\n",
       "    <tr>\n",
       "      <th>15195</th>\n",
       "      <td>공범 EP8</td>\n",
       "      <td>0.141338</td>\n",
       "    </tr>\n",
       "    <tr>\n",
       "      <th>15200</th>\n",
       "      <td>공범 EP8</td>\n",
       "      <td>0.141357</td>\n",
       "    </tr>\n",
       "    <tr>\n",
       "      <th>15198</th>\n",
       "      <td>공범 EP8</td>\n",
       "      <td>0.141384</td>\n",
       "    </tr>\n",
       "  </tbody>\n",
       "</table>\n",
       "<p>15201 rows × 2 columns</p>\n",
       "</div>"
      ],
      "text/plain": [
       "      videoname     ratio\n",
       "10       공범 EP1  0.004412\n",
       "3496     공범 EP2  0.004926\n",
       "9264     공범 EP4  0.004946\n",
       "9265     공범 EP4  0.005305\n",
       "9266     공범 EP4  0.005834\n",
       "...         ...       ...\n",
       "15197    공범 EP8  0.141333\n",
       "15199    공범 EP8  0.141334\n",
       "15195    공범 EP8  0.141338\n",
       "15200    공범 EP8  0.141357\n",
       "15198    공범 EP8  0.141384\n",
       "\n",
       "[15201 rows x 2 columns]"
      ]
     },
     "execution_count": 43,
     "metadata": {},
     "output_type": "execute_result"
    }
   ],
   "source": [
    "video.info()\n",
    "video[\"ratio\"] = video[\"dislikecnt\"] / video[\"likecnt\"]\n",
    "mydf = video[[\"videoname\",\"ratio\"]].sort_values([\"ratio\"])\n",
    "mydf"
   ]
  },
  {
   "cell_type": "code",
   "execution_count": 49,
   "id": "bc07719c",
   "metadata": {},
   "outputs": [
    {
     "name": "stdout",
     "output_type": "stream",
     "text": [
      "<class 'pandas.core.frame.DataFrame'>\n",
      "RangeIndex: 15201 entries, 0 to 15200\n",
      "Data columns (total 9 columns):\n",
      " #   Column       Non-Null Count  Dtype \n",
      "---  ------       --------------  ----- \n",
      " 0   Unnamed: 0   15201 non-null  int64 \n",
      " 1   videopk      15201 non-null  object\n",
      " 2   viewcnt      15201 non-null  int64 \n",
      " 3   likecnt      15201 non-null  int64 \n",
      " 4   dislikecnt   15201 non-null  int64 \n",
      " 5   favoritecnt  15201 non-null  int64 \n",
      " 6   cmcnt        15201 non-null  int64 \n",
      " 7   ct           15201 non-null  object\n",
      " 8   videoname    15201 non-null  object\n",
      "dtypes: int64(6), object(3)\n",
      "memory usage: 1.0+ MB\n"
     ]
    }
   ],
   "source": [
    "video = pd.read_csv(\"video.csv\")\n",
    "video.info()"
   ]
  },
  {
   "cell_type": "code",
   "execution_count": 70,
   "id": "a45adbd6",
   "metadata": {},
   "outputs": [
    {
     "data": {
      "text/html": [
       "<div>\n",
       "<style scoped>\n",
       "    .dataframe tbody tr th:only-of-type {\n",
       "        vertical-align: middle;\n",
       "    }\n",
       "\n",
       "    .dataframe tbody tr th {\n",
       "        vertical-align: top;\n",
       "    }\n",
       "\n",
       "    .dataframe thead th {\n",
       "        text-align: right;\n",
       "    }\n",
       "</style>\n",
       "<table border=\"1\" class=\"dataframe\">\n",
       "  <thead>\n",
       "    <tr style=\"text-align: right;\">\n",
       "      <th></th>\n",
       "      <th>Unnamed: 0</th>\n",
       "      <th>videopk</th>\n",
       "      <th>viewcnt</th>\n",
       "      <th>likecnt</th>\n",
       "      <th>dislikecnt</th>\n",
       "      <th>favoritecnt</th>\n",
       "      <th>cmcnt</th>\n",
       "      <th>ct</th>\n",
       "      <th>videoname</th>\n",
       "    </tr>\n",
       "  </thead>\n",
       "  <tbody>\n",
       "    <tr>\n",
       "      <th>0</th>\n",
       "      <td>0</td>\n",
       "      <td>c5JQp6xafqc</td>\n",
       "      <td>1667010</td>\n",
       "      <td>30474</td>\n",
       "      <td>706</td>\n",
       "      <td>0</td>\n",
       "      <td>6587</td>\n",
       "      <td>2021-10-10 15:20:03</td>\n",
       "      <td>공범 EP1</td>\n",
       "    </tr>\n",
       "    <tr>\n",
       "      <th>1</th>\n",
       "      <td>1</td>\n",
       "      <td>c5JQp6xafqc</td>\n",
       "      <td>1669089</td>\n",
       "      <td>30495</td>\n",
       "      <td>707</td>\n",
       "      <td>0</td>\n",
       "      <td>6589</td>\n",
       "      <td>2021-10-10 15:30:03</td>\n",
       "      <td>공범 EP1</td>\n",
       "    </tr>\n",
       "    <tr>\n",
       "      <th>2</th>\n",
       "      <td>2</td>\n",
       "      <td>c5JQp6xafqc</td>\n",
       "      <td>1674759</td>\n",
       "      <td>30522</td>\n",
       "      <td>711</td>\n",
       "      <td>0</td>\n",
       "      <td>6596</td>\n",
       "      <td>2021-10-10 15:40:02</td>\n",
       "      <td>공범 EP1</td>\n",
       "    </tr>\n",
       "  </tbody>\n",
       "</table>\n",
       "</div>"
      ],
      "text/plain": [
       "   Unnamed: 0      videopk  viewcnt  likecnt  dislikecnt  favoritecnt  cmcnt  \\\n",
       "0           0  c5JQp6xafqc  1667010    30474         706            0   6587   \n",
       "1           1  c5JQp6xafqc  1669089    30495         707            0   6589   \n",
       "2           2  c5JQp6xafqc  1674759    30522         711            0   6596   \n",
       "\n",
       "                    ct videoname  \n",
       "0  2021-10-10 15:20:03    공범 EP1  \n",
       "1  2021-10-10 15:30:03    공범 EP1  \n",
       "2  2021-10-10 15:40:02    공범 EP1  "
      ]
     },
     "execution_count": 70,
     "metadata": {},
     "output_type": "execute_result"
    }
   ],
   "source": [
    "ll = set(video.index) -  set(video.drop_duplicates().index)\n",
    "answer  = video[video.index.isin(set(video.index) -  set(video.drop_duplicates().index))]\n",
    "## uniqure \n",
    "result = answer[['videoname','ct']]\n",
    "# display(result)\n",
    "\n",
    "video[video.index.isin([0,1,2])]"
   ]
  },
  {
   "cell_type": "code",
   "execution_count": 204,
   "id": "b842c212",
   "metadata": {},
   "outputs": [
    {
     "data": {
      "text/html": [
       "<div>\n",
       "<style scoped>\n",
       "    .dataframe tbody tr th:only-of-type {\n",
       "        vertical-align: middle;\n",
       "    }\n",
       "\n",
       "    .dataframe tbody tr th {\n",
       "        vertical-align: top;\n",
       "    }\n",
       "\n",
       "    .dataframe thead th {\n",
       "        text-align: right;\n",
       "    }\n",
       "</style>\n",
       "<table border=\"1\" class=\"dataframe\">\n",
       "  <thead>\n",
       "    <tr style=\"text-align: right;\">\n",
       "      <th></th>\n",
       "      <th>Player</th>\n",
       "      <th>Goals</th>\n",
       "      <th>Years</th>\n",
       "      <th>Country</th>\n",
       "    </tr>\n",
       "  </thead>\n",
       "  <tbody>\n",
       "    <tr>\n",
       "      <th>0</th>\n",
       "      <td>Miroslav Klose</td>\n",
       "      <td>16</td>\n",
       "      <td>2002-2006-2010-2014</td>\n",
       "      <td>Germany</td>\n",
       "    </tr>\n",
       "    <tr>\n",
       "      <th>1</th>\n",
       "      <td>Ronaldo</td>\n",
       "      <td>15</td>\n",
       "      <td>1998-2002-2006</td>\n",
       "      <td>Brazil</td>\n",
       "    </tr>\n",
       "    <tr>\n",
       "      <th>2</th>\n",
       "      <td>Gerd Muller</td>\n",
       "      <td>14</td>\n",
       "      <td>1970-1974</td>\n",
       "      <td>Germany</td>\n",
       "    </tr>\n",
       "    <tr>\n",
       "      <th>3</th>\n",
       "      <td>Just Fontaine</td>\n",
       "      <td>13</td>\n",
       "      <td>1958</td>\n",
       "      <td>France</td>\n",
       "    </tr>\n",
       "    <tr>\n",
       "      <th>4</th>\n",
       "      <td>Pele</td>\n",
       "      <td>12</td>\n",
       "      <td>1958-1962-1966-1970</td>\n",
       "      <td>Brazil</td>\n",
       "    </tr>\n",
       "  </tbody>\n",
       "</table>\n",
       "</div>"
      ],
      "text/plain": [
       "           Player  Goals                Years  Country\n",
       "0  Miroslav Klose     16  2002-2006-2010-2014  Germany\n",
       "1         Ronaldo     15       1998-2002-2006   Brazil\n",
       "2     Gerd Muller     14            1970-1974  Germany\n",
       "3   Just Fontaine     13                 1958   France\n",
       "4            Pele     12  1958-1962-1966-1970   Brazil"
      ]
     },
     "execution_count": 204,
     "metadata": {},
     "output_type": "execute_result"
    }
   ],
   "source": [
    "import pandas as pd\n",
    "\n",
    "df= pd.read_csv('https://raw.githubusercontent.com/Datamanim/datarepo/main/worldcup/worldcupgoals.csv')\n",
    "\n",
    "df.head()"
   ]
  },
  {
   "cell_type": "code",
   "execution_count": 158,
   "id": "51d8673e",
   "metadata": {},
   "outputs": [
    {
     "name": "stdout",
     "output_type": "stream",
     "text": [
      "<class 'pandas.core.frame.DataFrame'>\n",
      "RangeIndex: 1295 entries, 0 to 1294\n",
      "Data columns (total 4 columns):\n",
      " #   Column   Non-Null Count  Dtype \n",
      "---  ------   --------------  ----- \n",
      " 0   Player   1295 non-null   object\n",
      " 1   Goals    1295 non-null   int64 \n",
      " 2   Years    1295 non-null   object\n",
      " 3   Country  1295 non-null   object\n",
      "dtypes: int64(1), object(3)\n",
      "memory usage: 40.6+ KB\n"
     ]
    }
   ],
   "source": [
    "# df.to_csv(\"worldcupgoals.csv\")\n",
    "# df = pd.read_csv(\"worldcupgoals.csv\")\n",
    "\n",
    "df.info()"
   ]
  },
  {
   "cell_type": "markdown",
   "id": "77909eae",
   "metadata": {},
   "source": [
    "### 21\n",
    "주어진 전체 기간의 각 나라별 골득점수 상위 5개 국가와 그 득점수를 데이터프레임형태로 출력하라"
   ]
  },
  {
   "cell_type": "code",
   "execution_count": 182,
   "id": "7af16220",
   "metadata": {},
   "outputs": [
    {
     "name": "stdout",
     "output_type": "stream",
     "text": [
      "<class 'pandas.core.frame.DataFrame'>\n"
     ]
    },
    {
     "data": {
      "text/plain": [
       "(Index(['Brazil', 'Germany', 'Argentina', 'Italy', 'France'], dtype='object', name='Country'),\n",
       " array([[228],\n",
       "        [226],\n",
       "        [135],\n",
       "        [123],\n",
       "        [115]], dtype=int64))"
      ]
     },
     "execution_count": 182,
     "metadata": {},
     "output_type": "execute_result"
    }
   ],
   "source": [
    "# df.sort_values([\"Country\",\"Goals\"], ascending=False)\n",
    "dd=df.groupby(by=\"Country\").sum().sort_values(\"Goals\",ascending=False).iloc[:5,:]\n",
    "print(type(df.groupby(by=\"Country\").sum()))\n",
    "dd.index, dd.values\n"
   ]
  },
  {
   "cell_type": "code",
   "execution_count": null,
   "id": "c05a7c27",
   "metadata": {},
   "outputs": [],
   "source": []
  },
  {
   "cell_type": "markdown",
   "id": "2fe8418b",
   "metadata": {},
   "source": [
    "### Question 22\n",
    "주어진 전체기간동안 골득점을 한 선수가 가장 많은 나라 상위 5개 국가와 선수 숫자를 데이터 프레임 형식으로 출력하라"
   ]
  },
  {
   "cell_type": "code",
   "execution_count": 241,
   "id": "3d5a9d2e",
   "metadata": {},
   "outputs": [
    {
     "name": "stdout",
     "output_type": "stream",
     "text": [
      "<class 'pandas.core.frame.DataFrame'>\n",
      "RangeIndex: 1295 entries, 0 to 1294\n",
      "Data columns (total 6 columns):\n",
      " #   Column     Non-Null Count  Dtype \n",
      "---  ------     --------------  ----- \n",
      " 0   Player     1295 non-null   object\n",
      " 1   Goals      1295 non-null   int64 \n",
      " 2   Years      1295 non-null   object\n",
      " 3   Country    1295 non-null   object\n",
      " 4   Years_len  1295 non-null   int64 \n",
      " 5   disp_nok   1295 non-null   bool  \n",
      "dtypes: bool(1), int64(2), object(3)\n",
      "memory usage: 52.0+ KB\n",
      "<class 'pandas.core.series.Series'>\n",
      "['2002-2006-2010-2014' '1998-2002-2006' '1970-1974' '1958'\n",
      " '1958-1962-1966-1970' '1990-1994-1998' '1954' '1994-1998-2002'\n",
      " '1986-1990' '2010-2014' '1954-1958' '1970-1978-1982' '1974-1978-1982'\n",
      " '1950' '1966-1970-1974' '1958-1962' '1978-1982-1986' '1978-1982'\n",
      " '1998-2002' '1966' '2006-2010-2014' '1982-1986-1990-1994' '1930'\n",
      " '1934-1938' '1986-1990-1994' '1950-1954' '1954-1958-1962' '1974-1978'\n",
      " '2006-2010-2014-2018' '2010-2014-2018' '1994-1998' '2014-2018'\n",
      " '1970-1974-1978' '2014' '2018' '1998-2002-2006-2010' '1962-1966-1970'\n",
      " '1986-1990-1994-1998' '1990' '1994' '2002-2010' '1958-1962-1966'\n",
      " '1990-1994' '0' '1966-1970' '2006-2010' '1938' '2002-2006-2010'\n",
      " '1990-1994-2002' '1978' '1982-1986' '1982-1986-1990' '1998' '1962-1966'\n",
      " '1986' '1974-1982' '1934' '1954-1962' '2002-2006' '2010' '1994-2002-2006'\n",
      " '1970' '1962' '1982' '2002' '1962-1966-1970-1974' '1998-2002-2010' '1974'\n",
      " '1994-1998-2002-2006' '1990-1998-2002' '1990-1998' '1930-1934'\n",
      " '1970-1982' '1930-1934-1938' '2006' '2006-2014' '1986-1994'\n",
      " '2002-2006-2014' '1986-1998' '1950-1954-1958' '1998-2006'\n",
      " '1990-1994-1998-2002' '1962-1970-1974' '1978-1986' '1954-1958-1962-1966'\n",
      " '1962-1970' '1982-1990' '1930-1938' '1990-2002' '1978-1986-1994'\n",
      " '1970-1978' '1994-2002' '1966-1978' '1950-1958' '1938-1950']\n"
     ]
    }
   ],
   "source": [
    "# df.groupby(by=\"Country\").sum().sort_values([\"Goals\"], ascending=False)\n",
    "df.info()\n",
    "# df.groupby(\"Country\").sum().sort_values([\"Goals\"],ascending=False).head(5)\n",
    "result = df.groupby('Country').size().sort_values(ascending=False).head(5)\n",
    "# result = df.groupby(by='Country').size()\n",
    "result2 = pd.value_counts(df[\"Country\"]).head(5)\n",
    "result == result2\n",
    "result\n",
    "print(type(result))\n",
    "\n",
    "pd.options.display.max_rows = 10\n",
    "print(df[\"Years\"].unique())\n",
    "# result.index, result.values\n"
   ]
  },
  {
   "cell_type": "markdown",
   "id": "3f98914d",
   "metadata": {},
   "source": [
    "### Question 23\n",
    "\n",
    "Years 컬럼은 년도 -년도 형식으로 구성되어있고, 각 년도는 4자리 숫자이다.\n",
    "년도 표기가 4자리 숫자로 안된 케이스가 존재한다. 해당 건은 몇건인지 출력하라"
   ]
  },
  {
   "cell_type": "code",
   "execution_count": 248,
   "id": "f894e0b3",
   "metadata": {
    "scrolled": false
   },
   "outputs": [
    {
     "name": "stdout",
     "output_type": "stream",
     "text": [
      "0    2002-2006-2010-2014\n",
      "1         1998-2002-2006\n",
      "2              1970-1974\n",
      "3                   1958\n",
      "4    1958-1962-1966-1970\n",
      "Name: Years, dtype: object\n",
      "45\n"
     ]
    }
   ],
   "source": [
    "print(df[\"Years\"].head())\n",
    "# print(len(\"aa\"))\n",
    "\n",
    "def check(data):\n",
    "    years = str.split(data,\"-\")\n",
    "    for year in years :\n",
    "        if len(year) != 4 :\n",
    "            return True\n",
    "    return False     \n",
    "\n",
    "a = df[df[\"Years\"].map(check)]\n",
    "# a = df[ df[\"disp_nok\"]]\n",
    "print(len(a))\n",
    "pd.options.display.max_rows = None\n"
   ]
  },
  {
   "cell_type": "markdown",
   "id": "db9c875d",
   "metadata": {},
   "source": [
    "### 24, 25\n",
    "Q3에서 발생한 예외 케이스를 제외한 데이터프레임을 df2라고 정의하고 데이터의 행의 숫자를 출력하라 \n",
    "(아래 문제부터는 df2로 풀이하겠습니다) \n",
    "### 26\n",
    "2002년도에 출전한 전체 선수는 몇명인가?"
   ]
  },
  {
   "cell_type": "code",
   "execution_count": 264,
   "id": "eabfc9de",
   "metadata": {},
   "outputs": [
    {
     "data": {
      "text/plain": [
       "16"
      ]
     },
     "execution_count": 264,
     "metadata": {},
     "output_type": "execute_result"
    }
   ],
   "source": [
    "df[\"len_cup\"] = (df[\"Years\"].str.split(\"-\"))\n",
    "df[\"len_cup\"] = df[\"len_cup\"].map(lambda x : len(x))\n",
    "df.loc[df.len_cup >= 4, :].shape[0]\n"
   ]
  },
  {
   "cell_type": "markdown",
   "id": "a2b79829",
   "metadata": {},
   "source": [
    "## 서울시 따릉이 이용 데이터 \n"
   ]
  },
  {
   "cell_type": "code",
   "execution_count": 3,
   "id": "0ec9e744",
   "metadata": {},
   "outputs": [],
   "source": [
    "import pandas as pd\n",
    "df =pd.read_csv('https://raw.githubusercontent.com/Datamanim/datarepo/main/bicycle/seoul_bi.csv')\n",
    "df.head()\n",
    "df.to_csv(\"seoul_by.csv\", index = False)\n"
   ]
  },
  {
   "cell_type": "code",
   "execution_count": 20,
   "id": "7ee783db",
   "metadata": {},
   "outputs": [
    {
     "data": {
      "text/plain": [
       "(678950, 11)"
      ]
     },
     "execution_count": 20,
     "metadata": {},
     "output_type": "execute_result"
    }
   ],
   "source": [
    "import pandas as pd\n",
    "# df = pd.read_csv(\"seoul_by.csv\")\n",
    "import os\n",
    "\n",
    "# os.rename(\"seoul_by.csv\", \"seoul_bi.csv\")\n",
    "df = pd.read_csv(\"seoul_bi.csv\")\n",
    "df.shape"
   ]
  },
  {
   "cell_type": "markdown",
   "id": "d2c3fcff",
   "metadata": {},
   "source": [
    "### Question 31\n",
    "\n",
    "대여일자별 데이터의 수를 데이터프레임으로 출력하고, 가장 많은 데이터가 있는 날짜를 출력하라"
   ]
  },
  {
   "cell_type": "code",
   "execution_count": 19,
   "id": "24c0b604",
   "metadata": {},
   "outputs": [
    {
     "name": "stdout",
     "output_type": "stream",
     "text": [
      "<class 'pandas.core.frame.DataFrame'>\n",
      "RangeIndex: 678950 entries, 0 to 678949\n",
      "Data columns (total 11 columns):\n",
      " #   Column  Non-Null Count   Dtype  \n",
      "---  ------  --------------   -----  \n",
      " 0   대여일자    678950 non-null  object \n",
      " 1   대여시간    678950 non-null  int64  \n",
      " 2   대여소번호   678950 non-null  int64  \n",
      " 3   대여구분코드  678950 non-null  object \n",
      " 4   성별      678950 non-null  object \n",
      " 5   연령대코드   678950 non-null  object \n",
      " 6   이용건수    678950 non-null  int64  \n",
      " 7   운동량     678950 non-null  object \n",
      " 8   탄소량     678950 non-null  object \n",
      " 9   이동거리    678950 non-null  float64\n",
      " 10  사용시간    678950 non-null  int64  \n",
      "dtypes: float64(1), int64(4), object(6)\n",
      "memory usage: 57.0+ MB\n"
     ]
    },
    {
     "data": {
      "text/plain": [
       "2021-06-04    56788\n",
       "2021-06-02    56100\n",
       "2021-06-08    55623\n",
       "2021-06-14    54945\n",
       "2021-06-09    54507\n",
       "2021-06-05    52730\n",
       "2021-06-07    52623\n",
       "2021-06-11    52089\n",
       "2021-06-12    48569\n",
       "2021-06-01    48081\n",
       "2021-06-06    47787\n",
       "2021-06-13    43131\n",
       "2021-06-10    36992\n",
       "2021-06-03    18985\n",
       "Name: 대여일자, dtype: int64"
      ]
     },
     "execution_count": 19,
     "metadata": {},
     "output_type": "execute_result"
    }
   ],
   "source": [
    "df.shape\n",
    "df.info()\n",
    "type(df.isna().sum())\n",
    "df[\"대여일자\"].value_counts()"
   ]
  },
  {
   "cell_type": "markdown",
   "id": "eccf1014",
   "metadata": {},
   "source": [
    "### Question 32\n",
    "\n",
    "각 일자의 요일을 표기하고 (‘Monday’ ~’Sunday’) ‘day_name’컬럼을 추가하고 이를 이용하여 각 요일별 이용 횟수의 총합을 데이터 프레임으로 출력하라"
   ]
  },
  {
   "cell_type": "code",
   "execution_count": 33,
   "id": "b5284790",
   "metadata": {},
   "outputs": [
    {
     "data": {
      "text/html": [
       "<div>\n",
       "<style scoped>\n",
       "    .dataframe tbody tr th:only-of-type {\n",
       "        vertical-align: middle;\n",
       "    }\n",
       "\n",
       "    .dataframe tbody tr th {\n",
       "        vertical-align: top;\n",
       "    }\n",
       "\n",
       "    .dataframe thead th {\n",
       "        text-align: right;\n",
       "    }\n",
       "</style>\n",
       "<table border=\"1\" class=\"dataframe\">\n",
       "  <thead>\n",
       "    <tr style=\"text-align: right;\">\n",
       "      <th></th>\n",
       "      <th>대여일자</th>\n",
       "      <th>대여시간</th>\n",
       "      <th>대여소번호</th>\n",
       "      <th>대여구분코드</th>\n",
       "      <th>성별</th>\n",
       "      <th>연령대코드</th>\n",
       "      <th>이용건수</th>\n",
       "      <th>운동량</th>\n",
       "      <th>탄소량</th>\n",
       "      <th>이동거리</th>\n",
       "      <th>사용시간</th>\n",
       "      <th>대여일자1</th>\n",
       "      <th>day_name</th>\n",
       "    </tr>\n",
       "  </thead>\n",
       "  <tbody>\n",
       "    <tr>\n",
       "      <th>0</th>\n",
       "      <td>2021-06-01</td>\n",
       "      <td>0</td>\n",
       "      <td>3541</td>\n",
       "      <td>정기권</td>\n",
       "      <td>F</td>\n",
       "      <td>~10대</td>\n",
       "      <td>1</td>\n",
       "      <td>0.00</td>\n",
       "      <td>0.00</td>\n",
       "      <td>0.0</td>\n",
       "      <td>8</td>\n",
       "      <td>2021-06-01</td>\n",
       "      <td>Tuesday</td>\n",
       "    </tr>\n",
       "  </tbody>\n",
       "</table>\n",
       "</div>"
      ],
      "text/plain": [
       "         대여일자  대여시간  대여소번호 대여구분코드 성별 연령대코드  이용건수   운동량   탄소량  이동거리  사용시간  \\\n",
       "0  2021-06-01     0   3541    정기권  F  ~10대     1  0.00  0.00   0.0     8   \n",
       "\n",
       "       대여일자1 day_name  \n",
       "0 2021-06-01  Tuesday  "
      ]
     },
     "execution_count": 33,
     "metadata": {},
     "output_type": "execute_result"
    },
    {
     "data": {
      "text/html": [
       "<div>\n",
       "<style scoped>\n",
       "    .dataframe tbody tr th:only-of-type {\n",
       "        vertical-align: middle;\n",
       "    }\n",
       "\n",
       "    .dataframe tbody tr th {\n",
       "        vertical-align: top;\n",
       "    }\n",
       "\n",
       "    .dataframe thead th {\n",
       "        text-align: right;\n",
       "    }\n",
       "</style>\n",
       "<table border=\"1\" class=\"dataframe\">\n",
       "  <thead>\n",
       "    <tr style=\"text-align: right;\">\n",
       "      <th></th>\n",
       "      <th>대여일자</th>\n",
       "      <th>대여시간</th>\n",
       "      <th>대여소번호</th>\n",
       "      <th>대여구분코드</th>\n",
       "      <th>성별</th>\n",
       "      <th>연령대코드</th>\n",
       "      <th>이용건수</th>\n",
       "      <th>운동량</th>\n",
       "      <th>탄소량</th>\n",
       "      <th>이동거리</th>\n",
       "      <th>사용시간</th>\n",
       "      <th>대여일자1</th>\n",
       "      <th>day_name</th>\n",
       "    </tr>\n",
       "  </thead>\n",
       "  <tbody>\n",
       "    <tr>\n",
       "      <th>0</th>\n",
       "      <td>2021-06-01</td>\n",
       "      <td>0</td>\n",
       "      <td>3541</td>\n",
       "      <td>정기권</td>\n",
       "      <td>F</td>\n",
       "      <td>~10대</td>\n",
       "      <td>1</td>\n",
       "      <td>0.00</td>\n",
       "      <td>0.00</td>\n",
       "      <td>0.0</td>\n",
       "      <td>8</td>\n",
       "      <td>2021-06-01</td>\n",
       "      <td>Tuesday</td>\n",
       "    </tr>\n",
       "  </tbody>\n",
       "</table>\n",
       "</div>"
      ],
      "text/plain": [
       "         대여일자  대여시간  대여소번호 대여구분코드 성별 연령대코드  이용건수   운동량   탄소량  이동거리  사용시간  \\\n",
       "0  2021-06-01     0   3541    정기권  F  ~10대     1  0.00  0.00   0.0     8   \n",
       "\n",
       "       대여일자1 day_name  \n",
       "0 2021-06-01  Tuesday  "
      ]
     },
     "execution_count": 33,
     "metadata": {},
     "output_type": "execute_result"
    },
    {
     "data": {
      "text/plain": [
       "Wednesday    110607\n",
       "Friday       108877\n",
       "Monday       107568\n",
       "Tuesday      103704\n",
       "Saturday     101299\n",
       "Sunday        90918\n",
       "Thursday      55977\n",
       "Name: day_name, dtype: int64"
      ]
     },
     "execution_count": 33,
     "metadata": {},
     "output_type": "execute_result"
    }
   ],
   "source": [
    "df.head(1)\n",
    "# df[\"대여일자1\"] = pd.to_datetime(df[\"대여일자\"])\n",
    "df.head(1)\n",
    "df[\"day_name\"] = df[\"대여일자1\"].dt.day_name()\n",
    "df[\"day_name\"].value_counts()"
   ]
  },
  {
   "cell_type": "markdown",
   "id": "7d7b3e4f",
   "metadata": {},
   "source": [
    "### Question 33\n",
    "각 요일별 가장 많이 이용한 대여소의 이용횟수와 대여소 번호를 데이터 프레임으로 출력하라\n"
   ]
  },
  {
   "cell_type": "code",
   "execution_count": 184,
   "id": "d25fcaa6",
   "metadata": {},
   "outputs": [
    {
     "ename": "PydanticImportError",
     "evalue": "`BaseSettings` has been moved to the `pydantic-settings` package. See https://docs.pydantic.dev/2.5/migration/#basesettings-has-moved-to-pydantic-settings for more details.\n\nFor further information visit https://errors.pydantic.dev/2.5/u/import-error",
     "output_type": "error",
     "traceback": [
      "\u001b[1;31m---------------------------------------------------------------------------\u001b[0m",
      "\u001b[1;31mPydanticImportError\u001b[0m                       Traceback (most recent call last)",
      "\u001b[1;32m~\\AppData\\Local\\Temp\\ipykernel_21300\\3439275386.py\u001b[0m in \u001b[0;36m<module>\u001b[1;34m\u001b[0m\n\u001b[0;32m      1\u001b[0m \u001b[1;32mfrom\u001b[0m \u001b[0mpydantic_settings\u001b[0m \u001b[1;32mimport\u001b[0m \u001b[0mBaseSettings\u001b[0m\u001b[1;33m\u001b[0m\u001b[1;33m\u001b[0m\u001b[0m\n\u001b[1;32m----> 2\u001b[1;33m \u001b[1;32mfrom\u001b[0m \u001b[0mpandas_profiling\u001b[0m \u001b[1;32mimport\u001b[0m \u001b[0mProfileReport\u001b[0m\u001b[1;33m\u001b[0m\u001b[1;33m\u001b[0m\u001b[0m\n\u001b[0m\u001b[0;32m      3\u001b[0m \u001b[1;33m\u001b[0m\u001b[0m\n\u001b[0;32m      4\u001b[0m \u001b[1;33m\u001b[0m\u001b[0m\n\u001b[0;32m      5\u001b[0m \u001b[0mProfileReport\u001b[0m\u001b[1;33m(\u001b[0m\u001b[0mdf\u001b[0m\u001b[1;33m)\u001b[0m\u001b[1;33m\u001b[0m\u001b[1;33m\u001b[0m\u001b[0m\n",
      "\u001b[1;32mc:\\programming\\venv_307\\lib\\site-packages\\pandas_profiling\\__init__.py\u001b[0m in \u001b[0;36m<module>\u001b[1;34m\u001b[0m\n\u001b[0;32m      6\u001b[0m \u001b[1;32mfrom\u001b[0m \u001b[0mwarnings\u001b[0m \u001b[1;32mimport\u001b[0m \u001b[0mwarn\u001b[0m\u001b[1;33m\u001b[0m\u001b[1;33m\u001b[0m\u001b[0m\n\u001b[0;32m      7\u001b[0m \u001b[1;33m\u001b[0m\u001b[0m\n\u001b[1;32m----> 8\u001b[1;33m \u001b[1;32mfrom\u001b[0m \u001b[0mpandas_profiling\u001b[0m\u001b[1;33m.\u001b[0m\u001b[0mcompare_reports\u001b[0m \u001b[1;32mimport\u001b[0m \u001b[0mcompare\u001b[0m\u001b[1;33m\u001b[0m\u001b[1;33m\u001b[0m\u001b[0m\n\u001b[0m\u001b[0;32m      9\u001b[0m \u001b[1;32mfrom\u001b[0m \u001b[0mpandas_profiling\u001b[0m\u001b[1;33m.\u001b[0m\u001b[0mcontroller\u001b[0m \u001b[1;32mimport\u001b[0m \u001b[0mpandas_decorator\u001b[0m\u001b[1;33m\u001b[0m\u001b[1;33m\u001b[0m\u001b[0m\n\u001b[0;32m     10\u001b[0m \u001b[1;32mfrom\u001b[0m \u001b[0mpandas_profiling\u001b[0m\u001b[1;33m.\u001b[0m\u001b[0mprofile_report\u001b[0m \u001b[1;32mimport\u001b[0m \u001b[0mProfileReport\u001b[0m\u001b[1;33m\u001b[0m\u001b[1;33m\u001b[0m\u001b[0m\n",
      "\u001b[1;32mc:\\programming\\venv_307\\lib\\site-packages\\pandas_profiling\\compare_reports.py\u001b[0m in \u001b[0;36m<module>\u001b[1;34m\u001b[0m\n\u001b[0;32m      4\u001b[0m \u001b[1;32mimport\u001b[0m \u001b[0mpandas\u001b[0m \u001b[1;32mas\u001b[0m \u001b[0mpd\u001b[0m\u001b[1;33m\u001b[0m\u001b[1;33m\u001b[0m\u001b[0m\n\u001b[0;32m      5\u001b[0m \u001b[1;33m\u001b[0m\u001b[0m\n\u001b[1;32m----> 6\u001b[1;33m \u001b[1;32mfrom\u001b[0m \u001b[0mpandas_profiling\u001b[0m\u001b[1;33m.\u001b[0m\u001b[0mconfig\u001b[0m \u001b[1;32mimport\u001b[0m \u001b[0mCorrelation\u001b[0m\u001b[1;33m,\u001b[0m \u001b[0mSettings\u001b[0m\u001b[1;33m\u001b[0m\u001b[1;33m\u001b[0m\u001b[0m\n\u001b[0m\u001b[0;32m      7\u001b[0m \u001b[1;32mfrom\u001b[0m \u001b[0mpandas_profiling\u001b[0m\u001b[1;33m.\u001b[0m\u001b[0mmodel\u001b[0m\u001b[1;33m.\u001b[0m\u001b[0malerts\u001b[0m \u001b[1;32mimport\u001b[0m \u001b[0mAlert\u001b[0m\u001b[1;33m\u001b[0m\u001b[1;33m\u001b[0m\u001b[0m\n\u001b[0;32m      8\u001b[0m \u001b[1;32mfrom\u001b[0m \u001b[0mpandas_profiling\u001b[0m\u001b[1;33m.\u001b[0m\u001b[0mprofile_report\u001b[0m \u001b[1;32mimport\u001b[0m \u001b[0mProfileReport\u001b[0m\u001b[1;33m\u001b[0m\u001b[1;33m\u001b[0m\u001b[0m\n",
      "\u001b[1;32mc:\\programming\\venv_307\\lib\\site-packages\\pandas_profiling\\config.py\u001b[0m in \u001b[0;36m<module>\u001b[1;34m\u001b[0m\n\u001b[0;32m      5\u001b[0m \u001b[1;33m\u001b[0m\u001b[0m\n\u001b[0;32m      6\u001b[0m \u001b[1;32mimport\u001b[0m \u001b[0myaml\u001b[0m\u001b[1;33m\u001b[0m\u001b[1;33m\u001b[0m\u001b[0m\n\u001b[1;32m----> 7\u001b[1;33m \u001b[1;32mfrom\u001b[0m \u001b[0mpydantic\u001b[0m \u001b[1;32mimport\u001b[0m \u001b[0mBaseModel\u001b[0m\u001b[1;33m,\u001b[0m \u001b[0mBaseSettings\u001b[0m\u001b[1;33m,\u001b[0m \u001b[0mField\u001b[0m\u001b[1;33m,\u001b[0m \u001b[0mPrivateAttr\u001b[0m\u001b[1;33m\u001b[0m\u001b[1;33m\u001b[0m\u001b[0m\n\u001b[0m\u001b[0;32m      8\u001b[0m \u001b[1;33m\u001b[0m\u001b[0m\n\u001b[0;32m      9\u001b[0m \u001b[1;33m\u001b[0m\u001b[0m\n",
      "\u001b[1;32mc:\\programming\\venv_307\\lib\\site-packages\\pydantic\\__init__.py\u001b[0m in \u001b[0;36m__getattr__\u001b[1;34m(attr_name)\u001b[0m\n\u001b[0;32m    361\u001b[0m     \u001b[0mdynamic_attr\u001b[0m \u001b[1;33m=\u001b[0m \u001b[0m_dynamic_imports\u001b[0m\u001b[1;33m.\u001b[0m\u001b[0mget\u001b[0m\u001b[1;33m(\u001b[0m\u001b[0mattr_name\u001b[0m\u001b[1;33m)\u001b[0m\u001b[1;33m\u001b[0m\u001b[1;33m\u001b[0m\u001b[0m\n\u001b[0;32m    362\u001b[0m     \u001b[1;32mif\u001b[0m \u001b[0mdynamic_attr\u001b[0m \u001b[1;32mis\u001b[0m \u001b[1;32mNone\u001b[0m\u001b[1;33m:\u001b[0m\u001b[1;33m\u001b[0m\u001b[1;33m\u001b[0m\u001b[0m\n\u001b[1;32m--> 363\u001b[1;33m         \u001b[1;32mreturn\u001b[0m \u001b[0m_getattr_migration\u001b[0m\u001b[1;33m(\u001b[0m\u001b[0mattr_name\u001b[0m\u001b[1;33m)\u001b[0m\u001b[1;33m\u001b[0m\u001b[1;33m\u001b[0m\u001b[0m\n\u001b[0m\u001b[0;32m    364\u001b[0m \u001b[1;33m\u001b[0m\u001b[0m\n\u001b[0;32m    365\u001b[0m     \u001b[0mpackage\u001b[0m\u001b[1;33m,\u001b[0m \u001b[0mmodule_name\u001b[0m \u001b[1;33m=\u001b[0m \u001b[0mdynamic_attr\u001b[0m\u001b[1;33m\u001b[0m\u001b[1;33m\u001b[0m\u001b[0m\n",
      "\u001b[1;32mc:\\programming\\venv_307\\lib\\site-packages\\pydantic\\_migration.py\u001b[0m in \u001b[0;36mwrapper\u001b[1;34m(name)\u001b[0m\n\u001b[0;32m    295\u001b[0m         \u001b[1;32mif\u001b[0m \u001b[0mimport_path\u001b[0m \u001b[1;33m==\u001b[0m \u001b[1;34m'pydantic:BaseSettings'\u001b[0m\u001b[1;33m:\u001b[0m\u001b[1;33m\u001b[0m\u001b[1;33m\u001b[0m\u001b[0m\n\u001b[0;32m    296\u001b[0m             raise PydanticImportError(\n\u001b[1;32m--> 297\u001b[1;33m                 \u001b[1;34m'`BaseSettings` has been moved to the `pydantic-settings` package. '\u001b[0m\u001b[1;33m\u001b[0m\u001b[1;33m\u001b[0m\u001b[0m\n\u001b[0m\u001b[0;32m    298\u001b[0m                 \u001b[1;34mf'See https://docs.pydantic.dev/{version_short()}/migration/#basesettings-has-moved-to-pydantic-settings '\u001b[0m\u001b[1;33m\u001b[0m\u001b[1;33m\u001b[0m\u001b[0m\n\u001b[0;32m    299\u001b[0m                 \u001b[1;34m'for more details.'\u001b[0m\u001b[1;33m\u001b[0m\u001b[1;33m\u001b[0m\u001b[0m\n",
      "\u001b[1;31mPydanticImportError\u001b[0m: `BaseSettings` has been moved to the `pydantic-settings` package. See https://docs.pydantic.dev/2.5/migration/#basesettings-has-moved-to-pydantic-settings for more details.\n\nFor further information visit https://errors.pydantic.dev/2.5/u/import-error"
     ]
    }
   ],
   "source": [
    "from pydantic_settings import BaseSettings\n",
    "from pandas_profiling import ProfileReport\n",
    "\n",
    "\n",
    "ProfileReport(df)"
   ]
  },
  {
   "cell_type": "code",
   "execution_count": 121,
   "id": "5ef574c6",
   "metadata": {},
   "outputs": [
    {
     "data": {
      "text/html": [
       "<div>\n",
       "<style scoped>\n",
       "    .dataframe tbody tr th:only-of-type {\n",
       "        vertical-align: middle;\n",
       "    }\n",
       "\n",
       "    .dataframe tbody tr th {\n",
       "        vertical-align: top;\n",
       "    }\n",
       "\n",
       "    .dataframe thead th {\n",
       "        text-align: right;\n",
       "    }\n",
       "</style>\n",
       "<table border=\"1\" class=\"dataframe\">\n",
       "  <thead>\n",
       "    <tr style=\"text-align: right;\">\n",
       "      <th></th>\n",
       "      <th>day_name</th>\n",
       "      <th>대여소번호</th>\n",
       "      <th>이용건수</th>\n",
       "    </tr>\n",
       "  </thead>\n",
       "  <tbody>\n",
       "    <tr>\n",
       "      <th>0</th>\n",
       "      <td>Wednesday</td>\n",
       "      <td>502</td>\n",
       "      <td>399</td>\n",
       "    </tr>\n",
       "    <tr>\n",
       "      <th>1</th>\n",
       "      <td>Tuesday</td>\n",
       "      <td>502</td>\n",
       "      <td>371</td>\n",
       "    </tr>\n",
       "    <tr>\n",
       "      <th>2</th>\n",
       "      <td>Thursday</td>\n",
       "      <td>2715</td>\n",
       "      <td>188</td>\n",
       "    </tr>\n",
       "    <tr>\n",
       "      <th>3</th>\n",
       "      <td>Sunday</td>\n",
       "      <td>502</td>\n",
       "      <td>574</td>\n",
       "    </tr>\n",
       "    <tr>\n",
       "      <th>4</th>\n",
       "      <td>Saturday</td>\n",
       "      <td>502</td>\n",
       "      <td>616</td>\n",
       "    </tr>\n",
       "    <tr>\n",
       "      <th>5</th>\n",
       "      <td>Monday</td>\n",
       "      <td>2715</td>\n",
       "      <td>374</td>\n",
       "    </tr>\n",
       "    <tr>\n",
       "      <th>6</th>\n",
       "      <td>Friday</td>\n",
       "      <td>2715</td>\n",
       "      <td>414</td>\n",
       "    </tr>\n",
       "  </tbody>\n",
       "</table>\n",
       "</div>"
      ],
      "text/plain": [
       "    day_name  대여소번호  이용건수\n",
       "0  Wednesday    502   399\n",
       "1    Tuesday    502   371\n",
       "2   Thursday   2715   188\n",
       "3     Sunday    502   574\n",
       "4   Saturday    502   616\n",
       "5     Monday   2715   374\n",
       "6     Friday   2715   414"
      ]
     },
     "execution_count": 121,
     "metadata": {},
     "output_type": "execute_result"
    }
   ],
   "source": [
    "sf = df[[\"day_name\", \"대여소번호\",\"이용건수\"]]\n",
    "# display(sf)\n",
    "# result = df.groupby(['day_name','대여소번호']).size()\n",
    "# display(result)\n",
    "# print(result.index, result.columns)\n",
    "# # result.head()\n",
    "s = sf.groupby([\"day_name\",\"대여소번호\"]).sum().sort_values([\"day_name\",\"이용건수\"],ascending=False).reset_index()\n",
    "# result = s.drop_duplicates('day_name',keep='first').reset_index(drop=True)\n",
    "result  =s.drop_duplicates(\"day_name\",keep='first').reset_index(drop=True)\n",
    "result\n"
   ]
  },
  {
   "cell_type": "markdown",
   "id": "23549b95",
   "metadata": {},
   "source": [
    "### Question 34\n",
    "\n",
    "나이대별 대여구분 코드의 (일일권/전체횟수) 비율을 구한 후 가장 높은 비율을 가지는 나이대를 확인하라.\n",
    "일일권의 경우 일일권 과 일일권(비회원)을 모두 포함하라\n"
   ]
  },
  {
   "cell_type": "code",
   "execution_count": 177,
   "id": "8bc542d9",
   "metadata": {},
   "outputs": [
    {
     "data": {
      "text/html": [
       "<div>\n",
       "<style scoped>\n",
       "    .dataframe tbody tr th:only-of-type {\n",
       "        vertical-align: middle;\n",
       "    }\n",
       "\n",
       "    .dataframe tbody tr th {\n",
       "        vertical-align: top;\n",
       "    }\n",
       "\n",
       "    .dataframe thead th {\n",
       "        text-align: right;\n",
       "    }\n",
       "</style>\n",
       "<table border=\"1\" class=\"dataframe\">\n",
       "  <thead>\n",
       "    <tr style=\"text-align: right;\">\n",
       "      <th></th>\n",
       "      <th>연령대코드</th>\n",
       "      <th>합</th>\n",
       "    </tr>\n",
       "  </thead>\n",
       "  <tbody>\n",
       "    <tr>\n",
       "      <th>0</th>\n",
       "      <td>20대</td>\n",
       "      <td>247561</td>\n",
       "    </tr>\n",
       "    <tr>\n",
       "      <th>1</th>\n",
       "      <td>30대</td>\n",
       "      <td>186722</td>\n",
       "    </tr>\n",
       "    <tr>\n",
       "      <th>2</th>\n",
       "      <td>40대</td>\n",
       "      <td>114799</td>\n",
       "    </tr>\n",
       "    <tr>\n",
       "      <th>3</th>\n",
       "      <td>50대</td>\n",
       "      <td>70428</td>\n",
       "    </tr>\n",
       "    <tr>\n",
       "      <th>4</th>\n",
       "      <td>60대</td>\n",
       "      <td>19288</td>\n",
       "    </tr>\n",
       "    <tr>\n",
       "      <th>5</th>\n",
       "      <td>70대~</td>\n",
       "      <td>3227</td>\n",
       "    </tr>\n",
       "    <tr>\n",
       "      <th>6</th>\n",
       "      <td>~10대</td>\n",
       "      <td>36925</td>\n",
       "    </tr>\n",
       "  </tbody>\n",
       "</table>\n",
       "</div>"
      ],
      "text/plain": [
       "  연령대코드       합\n",
       "0   20대  247561\n",
       "1   30대  186722\n",
       "2   40대  114799\n",
       "3   50대   70428\n",
       "4   60대   19288\n",
       "5  70대~    3227\n",
       "6  ~10대   36925"
      ]
     },
     "execution_count": 177,
     "metadata": {},
     "output_type": "execute_result"
    },
    {
     "data": {
      "text/plain": [
       "(Index(['연령대코드', '이용권수'], dtype='object'),\n",
       " Index(['연령대코드', '대여구분코드', '이용권수'], dtype='object'))"
      ]
     },
     "execution_count": 177,
     "metadata": {},
     "output_type": "execute_result"
    },
    {
     "data": {
      "text/html": [
       "<div>\n",
       "<style scoped>\n",
       "    .dataframe tbody tr th:only-of-type {\n",
       "        vertical-align: middle;\n",
       "    }\n",
       "\n",
       "    .dataframe tbody tr th {\n",
       "        vertical-align: top;\n",
       "    }\n",
       "\n",
       "    .dataframe thead th {\n",
       "        text-align: right;\n",
       "    }\n",
       "</style>\n",
       "<table border=\"1\" class=\"dataframe\">\n",
       "  <thead>\n",
       "    <tr style=\"text-align: right;\">\n",
       "      <th></th>\n",
       "      <th>연령대코드</th>\n",
       "      <th>대여구분코드</th>\n",
       "      <th>비율</th>\n",
       "    </tr>\n",
       "  </thead>\n",
       "  <tbody>\n",
       "    <tr>\n",
       "      <th>6</th>\n",
       "      <td>~10대</td>\n",
       "      <td>일일권</td>\n",
       "      <td>31.253</td>\n",
       "    </tr>\n",
       "    <tr>\n",
       "      <th>0</th>\n",
       "      <td>20대</td>\n",
       "      <td>일일권</td>\n",
       "      <td>23.990</td>\n",
       "    </tr>\n",
       "    <tr>\n",
       "      <th>1</th>\n",
       "      <td>30대</td>\n",
       "      <td>일일권</td>\n",
       "      <td>16.669</td>\n",
       "    </tr>\n",
       "    <tr>\n",
       "      <th>2</th>\n",
       "      <td>40대</td>\n",
       "      <td>일일권</td>\n",
       "      <td>11.056</td>\n",
       "    </tr>\n",
       "    <tr>\n",
       "      <th>3</th>\n",
       "      <td>50대</td>\n",
       "      <td>일일권</td>\n",
       "      <td>6.540</td>\n",
       "    </tr>\n",
       "    <tr>\n",
       "      <th>5</th>\n",
       "      <td>70대~</td>\n",
       "      <td>일일권</td>\n",
       "      <td>4.896</td>\n",
       "    </tr>\n",
       "    <tr>\n",
       "      <th>4</th>\n",
       "      <td>60대</td>\n",
       "      <td>일일권</td>\n",
       "      <td>4.246</td>\n",
       "    </tr>\n",
       "  </tbody>\n",
       "</table>\n",
       "</div>"
      ],
      "text/plain": [
       "  연령대코드 대여구분코드      비율\n",
       "6  ~10대    일일권  31.253\n",
       "0   20대    일일권  23.990\n",
       "1   30대    일일권  16.669\n",
       "2   40대    일일권  11.056\n",
       "3   50대    일일권   6.540\n",
       "5  70대~    일일권   4.896\n",
       "4   60대    일일권   4.246"
      ]
     },
     "execution_count": 177,
     "metadata": {},
     "output_type": "execute_result"
    }
   ],
   "source": [
    "# df[\"연령대코드\"].unique()\n",
    "# df[\"대여구분코드\"].unique()\n",
    "# df.info()\n",
    "import numpy as np\n",
    "sf = df[[\"연령대코드\",\"대여구분코드\"]]\n",
    "tf  =sf.groupby([\"연령대코드\",\"대여구분코드\"]).size().to_frame(\"이용권수\").reset_index()\n",
    "a = tf.groupby([\"연령대코드\"]).sum().reset_index()\n",
    "a.rename(columns={\"이용권수\":\"합\"})\n",
    "a.columns, tf.columns\n",
    "all = tf.merge(a, on=\"연령대코드\", how='left' )\n",
    "all[\"비율\"] = np.round(all[\"이용권수_x\"] / all[\"이용권수_y\"]*100,3)\n",
    "all = all[[\"연령대코드\",\"대여구분코드\",\"비율\"]]\n",
    "all[all[\"대여구분코드\"] == \"일일권\"].reset_index(drop=True).sort_values(\"비율\", ascending=False)"
   ]
  },
  {
   "cell_type": "code",
   "execution_count": 2,
   "id": "a5d4c743",
   "metadata": {},
   "outputs": [
    {
     "ename": "PydanticImportError",
     "evalue": "`BaseSettings` has been moved to the `pydantic-settings` package. See https://docs.pydantic.dev/2.5/migration/#basesettings-has-moved-to-pydantic-settings for more details.\n\nFor further information visit https://errors.pydantic.dev/2.5/u/import-error",
     "output_type": "error",
     "traceback": [
      "\u001b[1;31m---------------------------------------------------------------------------\u001b[0m",
      "\u001b[1;31mPydanticImportError\u001b[0m                       Traceback (most recent call last)",
      "\u001b[1;32m~\\AppData\\Local\\Temp\\ipykernel_9600\\3439275386.py\u001b[0m in \u001b[0;36m<module>\u001b[1;34m\u001b[0m\n\u001b[0;32m      1\u001b[0m \u001b[1;32mfrom\u001b[0m \u001b[0mpydantic_settings\u001b[0m \u001b[1;32mimport\u001b[0m \u001b[0mBaseSettings\u001b[0m\u001b[1;33m\u001b[0m\u001b[1;33m\u001b[0m\u001b[0m\n\u001b[1;32m----> 2\u001b[1;33m \u001b[1;32mfrom\u001b[0m \u001b[0mpandas_profiling\u001b[0m \u001b[1;32mimport\u001b[0m \u001b[0mProfileReport\u001b[0m\u001b[1;33m\u001b[0m\u001b[1;33m\u001b[0m\u001b[0m\n\u001b[0m\u001b[0;32m      3\u001b[0m \u001b[1;33m\u001b[0m\u001b[0m\n\u001b[0;32m      4\u001b[0m \u001b[1;33m\u001b[0m\u001b[0m\n\u001b[0;32m      5\u001b[0m \u001b[0mProfileReport\u001b[0m\u001b[1;33m(\u001b[0m\u001b[0mdf\u001b[0m\u001b[1;33m)\u001b[0m\u001b[1;33m\u001b[0m\u001b[1;33m\u001b[0m\u001b[0m\n",
      "\u001b[1;32mc:\\programming\\venv_307\\lib\\site-packages\\pandas_profiling\\__init__.py\u001b[0m in \u001b[0;36m<module>\u001b[1;34m\u001b[0m\n\u001b[0;32m      6\u001b[0m \u001b[1;32mfrom\u001b[0m \u001b[0mwarnings\u001b[0m \u001b[1;32mimport\u001b[0m \u001b[0mwarn\u001b[0m\u001b[1;33m\u001b[0m\u001b[1;33m\u001b[0m\u001b[0m\n\u001b[0;32m      7\u001b[0m \u001b[1;33m\u001b[0m\u001b[0m\n\u001b[1;32m----> 8\u001b[1;33m \u001b[1;32mfrom\u001b[0m \u001b[0mpandas_profiling\u001b[0m\u001b[1;33m.\u001b[0m\u001b[0mcompare_reports\u001b[0m \u001b[1;32mimport\u001b[0m \u001b[0mcompare\u001b[0m\u001b[1;33m\u001b[0m\u001b[1;33m\u001b[0m\u001b[0m\n\u001b[0m\u001b[0;32m      9\u001b[0m \u001b[1;32mfrom\u001b[0m \u001b[0mpandas_profiling\u001b[0m\u001b[1;33m.\u001b[0m\u001b[0mcontroller\u001b[0m \u001b[1;32mimport\u001b[0m \u001b[0mpandas_decorator\u001b[0m\u001b[1;33m\u001b[0m\u001b[1;33m\u001b[0m\u001b[0m\n\u001b[0;32m     10\u001b[0m \u001b[1;32mfrom\u001b[0m \u001b[0mpandas_profiling\u001b[0m\u001b[1;33m.\u001b[0m\u001b[0mprofile_report\u001b[0m \u001b[1;32mimport\u001b[0m \u001b[0mProfileReport\u001b[0m\u001b[1;33m\u001b[0m\u001b[1;33m\u001b[0m\u001b[0m\n",
      "\u001b[1;32mc:\\programming\\venv_307\\lib\\site-packages\\pandas_profiling\\compare_reports.py\u001b[0m in \u001b[0;36m<module>\u001b[1;34m\u001b[0m\n\u001b[0;32m      4\u001b[0m \u001b[1;32mimport\u001b[0m \u001b[0mpandas\u001b[0m \u001b[1;32mas\u001b[0m \u001b[0mpd\u001b[0m\u001b[1;33m\u001b[0m\u001b[1;33m\u001b[0m\u001b[0m\n\u001b[0;32m      5\u001b[0m \u001b[1;33m\u001b[0m\u001b[0m\n\u001b[1;32m----> 6\u001b[1;33m \u001b[1;32mfrom\u001b[0m \u001b[0mpandas_profiling\u001b[0m\u001b[1;33m.\u001b[0m\u001b[0mconfig\u001b[0m \u001b[1;32mimport\u001b[0m \u001b[0mCorrelation\u001b[0m\u001b[1;33m,\u001b[0m \u001b[0mSettings\u001b[0m\u001b[1;33m\u001b[0m\u001b[1;33m\u001b[0m\u001b[0m\n\u001b[0m\u001b[0;32m      7\u001b[0m \u001b[1;32mfrom\u001b[0m \u001b[0mpandas_profiling\u001b[0m\u001b[1;33m.\u001b[0m\u001b[0mmodel\u001b[0m\u001b[1;33m.\u001b[0m\u001b[0malerts\u001b[0m \u001b[1;32mimport\u001b[0m \u001b[0mAlert\u001b[0m\u001b[1;33m\u001b[0m\u001b[1;33m\u001b[0m\u001b[0m\n\u001b[0;32m      8\u001b[0m \u001b[1;32mfrom\u001b[0m \u001b[0mpandas_profiling\u001b[0m\u001b[1;33m.\u001b[0m\u001b[0mprofile_report\u001b[0m \u001b[1;32mimport\u001b[0m \u001b[0mProfileReport\u001b[0m\u001b[1;33m\u001b[0m\u001b[1;33m\u001b[0m\u001b[0m\n",
      "\u001b[1;32mc:\\programming\\venv_307\\lib\\site-packages\\pandas_profiling\\config.py\u001b[0m in \u001b[0;36m<module>\u001b[1;34m\u001b[0m\n\u001b[0;32m      5\u001b[0m \u001b[1;33m\u001b[0m\u001b[0m\n\u001b[0;32m      6\u001b[0m \u001b[1;32mimport\u001b[0m \u001b[0myaml\u001b[0m\u001b[1;33m\u001b[0m\u001b[1;33m\u001b[0m\u001b[0m\n\u001b[1;32m----> 7\u001b[1;33m \u001b[1;32mfrom\u001b[0m \u001b[0mpydantic\u001b[0m \u001b[1;32mimport\u001b[0m \u001b[0mBaseModel\u001b[0m\u001b[1;33m,\u001b[0m \u001b[0mBaseSettings\u001b[0m\u001b[1;33m,\u001b[0m \u001b[0mField\u001b[0m\u001b[1;33m,\u001b[0m \u001b[0mPrivateAttr\u001b[0m\u001b[1;33m\u001b[0m\u001b[1;33m\u001b[0m\u001b[0m\n\u001b[0m\u001b[0;32m      8\u001b[0m \u001b[1;33m\u001b[0m\u001b[0m\n\u001b[0;32m      9\u001b[0m \u001b[1;33m\u001b[0m\u001b[0m\n",
      "\u001b[1;32mc:\\programming\\venv_307\\lib\\site-packages\\pydantic\\__init__.py\u001b[0m in \u001b[0;36m__getattr__\u001b[1;34m(attr_name)\u001b[0m\n\u001b[0;32m    361\u001b[0m     \u001b[0mdynamic_attr\u001b[0m \u001b[1;33m=\u001b[0m \u001b[0m_dynamic_imports\u001b[0m\u001b[1;33m.\u001b[0m\u001b[0mget\u001b[0m\u001b[1;33m(\u001b[0m\u001b[0mattr_name\u001b[0m\u001b[1;33m)\u001b[0m\u001b[1;33m\u001b[0m\u001b[1;33m\u001b[0m\u001b[0m\n\u001b[0;32m    362\u001b[0m     \u001b[1;32mif\u001b[0m \u001b[0mdynamic_attr\u001b[0m \u001b[1;32mis\u001b[0m \u001b[1;32mNone\u001b[0m\u001b[1;33m:\u001b[0m\u001b[1;33m\u001b[0m\u001b[1;33m\u001b[0m\u001b[0m\n\u001b[1;32m--> 363\u001b[1;33m         \u001b[1;32mreturn\u001b[0m \u001b[0m_getattr_migration\u001b[0m\u001b[1;33m(\u001b[0m\u001b[0mattr_name\u001b[0m\u001b[1;33m)\u001b[0m\u001b[1;33m\u001b[0m\u001b[1;33m\u001b[0m\u001b[0m\n\u001b[0m\u001b[0;32m    364\u001b[0m \u001b[1;33m\u001b[0m\u001b[0m\n\u001b[0;32m    365\u001b[0m     \u001b[0mpackage\u001b[0m\u001b[1;33m,\u001b[0m \u001b[0mmodule_name\u001b[0m \u001b[1;33m=\u001b[0m \u001b[0mdynamic_attr\u001b[0m\u001b[1;33m\u001b[0m\u001b[1;33m\u001b[0m\u001b[0m\n",
      "\u001b[1;32mc:\\programming\\venv_307\\lib\\site-packages\\pydantic\\_migration.py\u001b[0m in \u001b[0;36mwrapper\u001b[1;34m(name)\u001b[0m\n\u001b[0;32m    295\u001b[0m         \u001b[1;32mif\u001b[0m \u001b[0mimport_path\u001b[0m \u001b[1;33m==\u001b[0m \u001b[1;34m'pydantic:BaseSettings'\u001b[0m\u001b[1;33m:\u001b[0m\u001b[1;33m\u001b[0m\u001b[1;33m\u001b[0m\u001b[0m\n\u001b[0;32m    296\u001b[0m             raise PydanticImportError(\n\u001b[1;32m--> 297\u001b[1;33m                 \u001b[1;34m'`BaseSettings` has been moved to the `pydantic-settings` package. '\u001b[0m\u001b[1;33m\u001b[0m\u001b[1;33m\u001b[0m\u001b[0m\n\u001b[0m\u001b[0;32m    298\u001b[0m                 \u001b[1;34mf'See https://docs.pydantic.dev/{version_short()}/migration/#basesettings-has-moved-to-pydantic-settings '\u001b[0m\u001b[1;33m\u001b[0m\u001b[1;33m\u001b[0m\u001b[0m\n\u001b[0;32m    299\u001b[0m                 \u001b[1;34m'for more details.'\u001b[0m\u001b[1;33m\u001b[0m\u001b[1;33m\u001b[0m\u001b[0m\n",
      "\u001b[1;31mPydanticImportError\u001b[0m: `BaseSettings` has been moved to the `pydantic-settings` package. See https://docs.pydantic.dev/2.5/migration/#basesettings-has-moved-to-pydantic-settings for more details.\n\nFor further information visit https://errors.pydantic.dev/2.5/u/import-error"
     ]
    }
   ],
   "source": [
    "from pydantic_settings import BaseSettings\n",
    "from pandas_profiling import ProfileReport\n",
    "\n",
    "\n",
    "ProfileReport(df)"
   ]
  },
  {
   "cell_type": "code",
   "execution_count": 49,
   "id": "8a9a9770",
   "metadata": {},
   "outputs": [
    {
     "name": "stdout",
     "output_type": "stream",
     "text": [
      "2.2979082113026412 2.1195681758021006\n",
      "ShapiroResult(statistic=0.9867480397224426, pvalue=0.4209050238132477) ShapiroResult(statistic=0.9907832145690918, pvalue=0.727729320526123)\n",
      "BartlettResult(statistic=15.06462028978476, pvalue=0.00010389238920037935)\n",
      "2.2979082113026412 2.1195681758021006\n"
     ]
    },
    {
     "data": {
      "image/png": "[encoded data removed]",
      "text/plain": [
       "<Figure size 640x480 with 1 Axes>"
      ]
     },
     "metadata": {},
     "output_type": "display_data"
    },
    {
     "data": {
      "image/png": "[encoded data removed]",
      "text/plain": [
       "<Figure size 640x480 with 1 Axes>"
      ]
     },
     "metadata": {},
     "output_type": "display_data"
    },
    {
     "data": {
      "image/png": "[encoded data removed]",
      "text/plain": [
       "<Figure size 640x480 with 2 Axes>"
      ]
     },
     "metadata": {},
     "output_type": "display_data"
    },
    {
     "data": {
      "image/png": "[encoded data removed]",
      "text/plain": [
       "<Figure size 640x480 with 1 Axes>"
      ]
     },
     "metadata": {},
     "output_type": "display_data"
    },
    {
     "name": "stdout",
     "output_type": "stream",
     "text": [
      "Ttest_indResult(statistic=0.5123345967906088, pvalue=0.6954656082393572)\n"
     ]
    }
   ],
   "source": [
    "import scipy.stats as sts\n",
    "import pandas as pd\n",
    "\n",
    "a = sts.norm(2,2)\n",
    "b = sts.norm(2,3)\n",
    "\n",
    "a = a.rvs(100)\n",
    "b = b.rvs(100)\n",
    "\n",
    "print(a.mean(), b.mean())\n",
    "print(sts.shapiro(a), sts.shapiro(b))\n",
    "print(sts.bartlett(a,b))\n",
    "\n",
    "print(a.mean(), b.mean())\n",
    "\n",
    "import matplotlib.pyplot as plt\n",
    "import seaborn as sns\n",
    "\n",
    "df = pd.DataFrame({\"a\":a,\"b\":b})\n",
    "df.boxplot()\n",
    "plt.show()\n",
    "\n",
    "sns.kdeplot(df)\n",
    "plt.xticks(np.arange(-10,10,1))\n",
    "plt.grid(True)\n",
    "plt.show()\n",
    "\n",
    "df.hist()\n",
    "# plt.xticks(np.arange(-10,10,1))\n",
    "plt.grid(True)\n",
    "plt.show()\n",
    "\n",
    "plt.hist(df, density=True)\n",
    "# plt.xticks(np.arange(-10,10,1))\n",
    "plt.grid(True)\n",
    "plt.show()\n",
    "\n",
    "\n",
    "ret = sts.ttest_ind(a, b, equal_var=False, alternative='less' )\n",
    "\n",
    "print(ret)"
   ]
  }
 ],
 "metadata": {
  "kernelspec": {
   "display_name": "Python 3 (ipykernel)",
   "language": "python",
   "name": "python3"
  },
  "language_info": {
   "codemirror_mode": {
    "name": "ipython",
    "version": 3
   },
   "file_extension": ".py",
   "mimetype": "text/x-python",
   "name": "python",
   "nbconvert_exporter": "python",
   "pygments_lexer": "ipython3",
   "version": "3.7.5rc1"
  }
 },
 "nbformat": 4,
 "nbformat_minor": 5
}

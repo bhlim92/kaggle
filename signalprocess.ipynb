{
 "cells": [
  {
   "cell_type": "code",
   "execution_count": 1,
   "id": "1f2b7682",
   "metadata": {
    "execution": {
     "iopub.execute_input": "2024-03-24T11:01:27.123997Z",
     "iopub.status.busy": "2024-03-24T11:01:27.123611Z",
     "iopub.status.idle": "2024-03-24T11:01:29.318681Z",
     "shell.execute_reply": "2024-03-24T11:01:29.317590Z"
    },
    "papermill": {
     "duration": 2.201351,
     "end_time": "2024-03-24T11:01:29.321113",
     "exception": false,
     "start_time": "2024-03-24T11:01:27.119762",
     "status": "completed"
    },
    "tags": []
   },
   "outputs": [
    {
     "name": "stdout",
     "output_type": "stream",
     "text": [
      "320000\n",
      "0.7071067811865476 0.7071067811865476\n"
     ]
    },
    {
     "data": {
      "image/png": "[encoded data removed]",
      "text/plain": [
       "<Figure size 640x480 with 1 Axes>"
      ]
     },
     "metadata": {},
     "output_type": "display_data"
    }
   ],
   "source": [
    "import scipy.signal as sg\n",
    "import numpy as np \n",
    "import pandas as pd\n",
    "import matplotlib.pyplot as plt \n",
    "\n",
    "sf = 3200\n",
    "t = np.arange(0,100,1/sf)\n",
    "\n",
    "print(len(t))\n",
    "\n",
    "x = np.sin(2*np.pi*2*t)\n",
    "\n",
    "f, pxx1 = sg.welch(x, sf,nperseg=sf*10, scaling='spectrum')\n",
    "enbw = 1.5\n",
    "\n",
    "rms = np.sqrt(pxx1.sum()/enbw)\n",
    "pxx1 = np.sqrt(pxx1)\n",
    "\n",
    "# k = np.argmax(pxx1)\n",
    "# pxx1[k] = 0\n",
    "\n",
    "txx1 = pxx1\n",
    "txx2 = max(pxx1)\n",
    "\n",
    "# print(pxx1.sum(), max(pxx1))\n",
    "\n",
    "\n",
    "print(txx2, rms)\n",
    "plt.plot(f, pxx1)\n",
    "plt.show()\n"
   ]
  },
  {
   "cell_type": "code",
   "execution_count": 2,
   "id": "d7eaff30",
   "metadata": {
    "_cell_guid": "b1076dfc-b9ad-4769-8c92-a6c4dae69d19",
    "_uuid": "8f2839f25d086af736a60e9eeb907d3b93b6e0e5",
    "execution": {
     "iopub.execute_input": "2024-03-24T11:01:29.327378Z",
     "iopub.status.busy": "2024-03-24T11:01:29.326885Z",
     "iopub.status.idle": "2024-03-24T11:01:29.332729Z",
     "shell.execute_reply": "2024-03-24T11:01:29.331789Z"
    },
    "papermill": {
     "duration": 0.011459,
     "end_time": "2024-03-24T11:01:29.334838",
     "exception": false,
     "start_time": "2024-03-24T11:01:29.323379",
     "status": "completed"
    },
    "tags": []
   },
   "outputs": [],
   "source": [
    "# This Python 3 environment comes with many helpful analytics libraries installed\n",
    "# It is defined by the kaggle/python Docker image: https://github.com/kaggle/docker-python\n",
    "# For example, here's several helpful packages to load\n",
    "\n",
    "import numpy as np # linear algebra\n",
    "import pandas as pd # data processing, CSV file I/O (e.g. pd.read_csv)\n",
    "\n",
    "# Input data files are available in the read-only \"../input/\" directory\n",
    "# For example, running this (by clicking run or pressing Shift+Enter) will list all files under the input directory\n",
    "\n",
    "import os\n",
    "for dirname, _, filenames in os.walk('/kaggle/input'):\n",
    "    for filename in filenames:\n",
    "        print(os.path.join(dirname, filename))\n",
    "\n",
    "# You can write up to 20GB to the current directory (/kaggle/working/) that gets preserved as output when you create a version using \"Save & Run All\" \n",
    "# You can also write temporary files to /kaggle/temp/, but they won't be saved outside of the current session"
   ]
  }
 ],
 "metadata": {
  "kaggle": {
   "accelerator": "none",
   "dataSources": [],
   "dockerImageVersionId": 30646,
   "isGpuEnabled": false,
   "isInternetEnabled": false,
   "language": "python",
   "sourceType": "notebook"
  },
  "kernelspec": {
   "display_name": "Python 3",
   "language": "python",
   "name": "python3"
  },
  "language_info": {
   "codemirror_mode": {
    "name": "ipython",
    "version": 3
   },
   "file_extension": ".py",
   "mimetype": "text/x-python",
   "name": "python",
   "nbconvert_exporter": "python",
   "pygments_lexer": "ipython3",
   "version": "3.10.13"
  },
  "papermill": {
   "default_parameters": {},
   "duration": 5.844764,
   "end_time": "2024-03-24T11:01:29.856615",
   "environment_variables": {},
   "exception": null,
   "input_path": "__notebook__.ipynb",
   "output_path": "__notebook__.ipynb",
   "parameters": {},
   "start_time": "2024-03-24T11:01:24.011851",
   "version": "2.5.0"
  }
 },
 "nbformat": 4,
 "nbformat_minor": 5
}

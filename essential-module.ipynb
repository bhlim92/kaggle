{
 "cells": [
  {
   "cell_type": "raw",
   "id": "40b6e925",
   "metadata": {
    "_cell_guid": "b1076dfc-b9ad-4769-8c92-a6c4dae69d19",
    "_uuid": "8f2839f25d086af736a60e9eeb907d3b93b6e0e5",
    "papermill": {
     "duration": 0.003418,
     "end_time": "2024-03-02T07:18:40.283672",
     "exception": false,
     "start_time": "2024-03-02T07:18:40.280254",
     "status": "completed"
    },
    "tags": []
   },
   "source": [
    "# This Python 3 environment comes with many helpful analytics libraries installed\n",
    "# It is defined by the kaggle/python Docker image: https://github.com/kaggle/docker-python\n",
    "# For example, here's several helpful packages to load\n",
    "\n",
    "import numpy as np # linear algebra\n",
    "import pandas as pd # data processing, CSV file I/O (e.g. pd.read_csv)\n",
    "\n",
    "# Input data files are available in the read-only \"../input/\" directory\n",
    "# For example, running this (by clicking run or pressing Shift+Enter) will list all files under the input directory\n",
    "\n",
    "import os\n",
    "for dirname, _, filenames in os.walk('/kaggle/input'):\n",
    "    for filename in filenames:\n",
    "        print(os.path.join(dirname, filename))\n",
    "\n",
    "# You can write up to 20GB to the current directory (/kaggle/working/) that gets preserved as output when you create a version using \"Save & Run All\" \n",
    "# You can also write temporary files to /kaggle/temp/, but they won't be saved outside of the current session"
   ]
  },
  {
   "cell_type": "code",
   "execution_count": 1,
   "id": "65cef782",
   "metadata": {
    "execution": {
     "iopub.execute_input": "2024-03-02T07:18:40.294799Z",
     "iopub.status.busy": "2024-03-02T07:18:40.293792Z",
     "iopub.status.idle": "2024-03-02T07:18:45.956134Z",
     "shell.execute_reply": "2024-03-02T07:18:45.954837Z"
    },
    "papermill": {
     "duration": 5.671863,
     "end_time": "2024-03-02T07:18:45.959227",
     "exception": false,
     "start_time": "2024-03-02T07:18:40.287364",
     "status": "completed"
    },
    "tags": []
   },
   "outputs": [
    {
     "data": {
      "text/plain": [
       "['PytestTester',\n",
       " '__builtins__',\n",
       " '__cached__',\n",
       " '__doc__',\n",
       " '__file__',\n",
       " '__loader__',\n",
       " '__name__',\n",
       " '__package__',\n",
       " '__path__',\n",
       " '__spec__',\n",
       " '_bds',\n",
       " '_innovations',\n",
       " 'adfvalues',\n",
       " 'api',\n",
       " 'ar_model',\n",
       " 'ardl',\n",
       " 'arima',\n",
       " 'arima_process',\n",
       " 'base',\n",
       " 'coint_tables',\n",
       " 'deterministic',\n",
       " 'exponential_smoothing',\n",
       " 'filters',\n",
       " 'forecasting',\n",
       " 'holtwinters',\n",
       " 'innovations',\n",
       " 'interp',\n",
       " 'regime_switching',\n",
       " 'seasonal',\n",
       " 'statespace',\n",
       " 'stattools',\n",
       " 'stl',\n",
       " 'test',\n",
       " 'tsatools',\n",
       " 'vector_ar',\n",
       " 'x13']"
      ]
     },
     "execution_count": 1,
     "metadata": {},
     "output_type": "execute_result"
    }
   ],
   "source": [
    "# 기본적인 모듈, EDA시 \n",
    "import numpy as np\n",
    "import pandas as pd\n",
    "import matplotlib.pyplot as plt\n",
    "import seaborn as sns\n",
    "import sklearn \n",
    "\n",
    "# 전처리 \n",
    "from sklearn.preprocessing import StandardScaler\n",
    "from sklearn.model_selection import train_test_split\n",
    "\n",
    "# 통계 처리 \n",
    "import scipy.stats as st \n",
    "from statsmodels.tsa import arima,api \n",
    "\n",
    "\n",
    "# 머신러닝 - 회귀분석 \n",
    "from sklearn.linear_model import LinearRegression, LogisticRegression\n",
    "\n",
    "# 머시너링 - 앙상블 \n",
    "from sklearn.ensemble import RandomForestRegressor, RandomForestClassifier\n",
    "# 머신러닝 - SVM \n",
    "from sklearn.svm import LinearSVC, LinearSVR, SVC, SVR\n",
    "\n",
    "# 머신러닝 - 평가 지표 \n",
    "from sklearn.metrics import mean_absolute_error,mean_squared_error\n",
    "from sklearn.metrics import accuracy_score, f1_score, precision_score,recall_score\n",
    "\n",
    "# 시계얄, 이원분석 anova, lm_anova, tsa, \n",
    "from statsmodels.api import PCA, OLS, MANOVA\n",
    "from statsmodels.formula.api import ols \n",
    "import statsmodels.tsa \n",
    "from statsmodels.tsa import arima,api \n",
    "\n",
    "ll = [i for i in dir(sklearn.metrics) if \"error\" in i ]\n",
    "stats = [i for i in dir(statsmodels.tsa)]\n",
    "stats\n"
   ]
  },
  {
   "cell_type": "markdown",
   "id": "b9fb0702",
   "metadata": {
    "papermill": {
     "duration": 0.002388,
     "end_time": "2024-03-02T07:18:45.964511",
     "exception": false,
     "start_time": "2024-03-02T07:18:45.962123",
     "status": "completed"
    },
    "tags": []
   },
   "source": [
    "# statsmodels.formula.api vs statsmodels.api 의 차이는 \n",
    " 전자는 자동으로 상수항을 추가해 준다면, 후자는 x_new = sm.add_constant(x) 과 같이 처리해주고 SM_model_2 = sm.OLS(y, x_new).fit() 이렇게 해주어야 한다. \n",
    " https://michael-fuchs-python.netlify.app/2019/07/02/statsmodel-formula-api-vs-statsmodel-api/"
   ]
  },
  {
   "cell_type": "markdown",
   "id": "880dfa79",
   "metadata": {
    "papermill": {
     "duration": 0.00229,
     "end_time": "2024-03-02T07:18:45.969432",
     "exception": false,
     "start_time": "2024-03-02T07:18:45.967142",
     "status": "completed"
    },
    "tags": []
   },
   "source": [
    "연관 분석(association analysis)에서 \"lift(향상도)\"는 상품 간의 연관성을 측정하는 데 사용되는 지표 중 하나입니다. \n",
    "<span style=\"color:red\"> 향상도는 두 개의 상품 간의 관계가 랜덤하게 발생한 경우에 비해 그 빈도가 얼마나 높은지를 측정합니다.</span>\n",
    "일반적으로 향상도는 다음과 같은 공식으로 계산됩니다:\n",
    "향상도의 해석은 다음과 같습니다:\n",
    "향상도가 1보다 크면, 두 상품 간의 연관 관계가 랜덤한 경우보다 더 자주 함께 발생한다는 것을 의미합니다. 이는 양의 상관 관계를 나타냅니다.\n",
    "향상도가 1에 가까우면, 두 상품 간의 연관성이 랜덤한 경우와 비슷하다는 것을 의미합니다.\n",
    "향상도가 1보다 작으면, 두 상품 간의 연관 관계가 랜덤한 경우보다 덜 자주 함께 발생한다는 것을 의미합니다. 이는 음의 상관 관계를 나타냅니다.\n",
    "따라서 향상도는 연관 규칙의 유용성을 평가하는 데 사용되며, 특정 상품이 다른 상품과 어떻게 관련되어 있는지를 파악하는 데 도움이 됩니다."
   ]
  },
  {
   "cell_type": "code",
   "execution_count": 2,
   "id": "bb6492c6",
   "metadata": {
    "execution": {
     "iopub.execute_input": "2024-03-02T07:18:45.977629Z",
     "iopub.status.busy": "2024-03-02T07:18:45.976315Z",
     "iopub.status.idle": "2024-03-02T07:18:45.995507Z",
     "shell.execute_reply": "2024-03-02T07:18:45.994105Z"
    },
    "papermill": {
     "duration": 0.026808,
     "end_time": "2024-03-02T07:18:45.998855",
     "exception": false,
     "start_time": "2024-03-02T07:18:45.972047",
     "status": "completed"
    },
    "tags": []
   },
   "outputs": [],
   "source": [
    "## runstest_1samp, apriori, assocaiton_rules  \n",
    "## 연관성에 대한 검정 \n",
    "from statsmodels.sandbox.stats.runs import runstest_1samp\n",
    "# 연관규칙분석 \n",
    "#  Lift 해석은 1보다 크며, 연관이 \n",
    "from mlxtend.frequent_patterns import apriori\n",
    "from mlxtend.frequent_patterns import association_rules"
   ]
  },
  {
   "cell_type": "code",
   "execution_count": null,
   "id": "b830be97",
   "metadata": {
    "papermill": {
     "duration": 0.002759,
     "end_time": "2024-03-02T07:18:46.004687",
     "exception": false,
     "start_time": "2024-03-02T07:18:46.001928",
     "status": "completed"
    },
    "tags": []
   },
   "outputs": [],
   "source": []
  }
 ],
 "metadata": {
  "kaggle": {
   "accelerator": "none",
   "dataSources": [],
   "dockerImageVersionId": 30664,
   "isGpuEnabled": false,
   "isInternetEnabled": false,
   "language": "python",
   "sourceType": "notebook"
  },
  "kernelspec": {
   "display_name": "Python 3",
   "language": "python",
   "name": "python3"
  },
  "language_info": {
   "codemirror_mode": {
    "name": "ipython",
    "version": 3
   },
   "file_extension": ".py",
   "mimetype": "text/x-python",
   "name": "python",
   "nbconvert_exporter": "python",
   "pygments_lexer": "ipython3",
   "version": "3.10.13"
  },
  "papermill": {
   "default_parameters": {},
   "duration": 10.117668,
   "end_time": "2024-03-02T07:18:47.032952",
   "environment_variables": {},
   "exception": null,
   "input_path": "__notebook__.ipynb",
   "output_path": "__notebook__.ipynb",
   "parameters": {},
   "start_time": "2024-03-02T07:18:36.915284",
   "version": "2.5.0"
  }
 },
 "nbformat": 4,
 "nbformat_minor": 5
}
